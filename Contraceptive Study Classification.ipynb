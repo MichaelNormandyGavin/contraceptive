{
 "cells": [
  {
   "cell_type": "markdown",
   "metadata": {},
   "source": [
    "# Contraceptive Use in Indonesia: 1987 Study #\n",
    "\n",
    "## Source: UCI Machine Learning Repository ##\n",
    "### URL: [WebLink](https://archive.ics.uci.edu/ml/datasets/Contraceptive+Method+Choice)\n",
    "\n",
    "\n",
    "Source:\n",
    "\n",
    "** Origin: **\n",
    "- This dataset is a subset of the 1987 National Indonesia Contraceptive Prevalence Survey \n",
    "\n",
    "** Creator and Donor: **\n",
    "- [Tjen-Sien Lim](limt@stat.wisc.edu) \n",
    "\n",
    "** Relevant Papers:**\n",
    "- [Lim, T.-S., Loh, W.-Y. & Shih, Y.-S. (1999). A Comparison of Prediction Accuracy, Complexity, and Training Time of Thirty-three Old and New Classification Algorithms. Machine Learning](http://www.stat.wisc.edu/~loh/treeprogs/guide/mach1317.pdf)"
   ]
  },
  {
   "cell_type": "code",
   "execution_count": 1,
   "metadata": {},
   "outputs": [
    {
     "data": {
      "text/plain": [
       "'\\ncurdoc().add_root(layout)\\n\\nin the shell:\\n\\nbokeh serve --show myapplication.py\\n'"
      ]
     },
     "execution_count": 1,
     "metadata": {},
     "output_type": "execute_result"
    }
   ],
   "source": [
    "data = 'https://archive.ics.uci.edu/ml/machine-learning-databases/cmc/cmc.data'\n",
    "\n",
    "import pandas as pd\n",
    "import numpy as np\n",
    "import requests\n",
    "import re\n",
    "\n",
    "import matplotlib.pyplot as plt\n",
    "import seaborn as sb\n",
    "import bokeh as bk\n",
    "from bokeh.models import ColumnDataSource, HoverTool, CategoricalColorMapper, Slider\n",
    "from bokeh.io import curdoc, show, output_notebook, push_notebook, output_file\n",
    "from bokeh.layouts import widgetbox, column, row, gridplot\n",
    "from bokeh.plotting import figure\n",
    "\n",
    "%matplotlib inline\n",
    "plt.style.use('bmh')\n",
    "\n",
    "pink_green = 'PiYG'\n",
    "paired_colors = 'Paired'\n",
    "\n",
    "\n",
    "##for CatColorMapper, \n",
    "''' \n",
    "CatColMap = CategoricalColorMapper(factors =[], palette = [])\n",
    "Hover = HoverTool(tooltips=[('string label','@column_name')])\n",
    "\n",
    "plot.add_tools(Hover)\n",
    "plot.circle(x,y,source=source,color={'field':[column_name],'transform':[CatColMap]})'''\n",
    "\n",
    "##for gridplot,\n",
    "'''\n",
    "layout = gridplot(list of rows)\n",
    "gridplot shares the toolbar for all plots\n",
    "'''\n",
    "\n",
    "##for callbacks,\n",
    "'''\n",
    "def callback(attr,old,new):\n",
    "    [insert Slider function]\n",
    "    \n",
    "slider.on_change('value',callback)\n",
    "'''\n",
    "\n",
    "##for bokeh server,\n",
    "'''\n",
    "curdoc().add_root(layout)\n",
    "\n",
    "in the shell:\n",
    "\n",
    "bokeh serve --show myapplication.py\n",
    "'''"
   ]
  },
  {
   "cell_type": "code",
   "execution_count": 2,
   "metadata": {
    "collapsed": true
   },
   "outputs": [],
   "source": [
    "url = requests.get(data)"
   ]
  },
  {
   "cell_type": "code",
   "execution_count": 3,
   "metadata": {},
   "outputs": [
    {
     "data": {
      "text/plain": [
       "'24,2,3,3,1,1,2,3,0,1\\n45,1,3,10,1,1,3,4,0,1\\n43,2,3,7,1,1,3,4,0,1\\n42,3,2,9,1,1,3,3,0,1\\n36,3,3,8,1,1,3,'"
      ]
     },
     "execution_count": 3,
     "metadata": {},
     "output_type": "execute_result"
    }
   ],
   "source": [
    "url.text[:100]"
   ]
  },
  {
   "cell_type": "code",
   "execution_count": 4,
   "metadata": {
    "collapsed": true
   },
   "outputs": [],
   "source": [
    "rows = url.text.split(sep='\\n')"
   ]
  },
  {
   "cell_type": "code",
   "execution_count": 5,
   "metadata": {},
   "outputs": [
    {
     "data": {
      "text/plain": [
       "'24,2,3,3,1,1,2,3,0,1'"
      ]
     },
     "execution_count": 5,
     "metadata": {},
     "output_type": "execute_result"
    }
   ],
   "source": [
    "rows[0]"
   ]
  },
  {
   "cell_type": "code",
   "execution_count": 6,
   "metadata": {
    "collapsed": true
   },
   "outputs": [],
   "source": [
    "rows_lists = [[l] for l in rows]"
   ]
  },
  {
   "cell_type": "code",
   "execution_count": 7,
   "metadata": {
    "collapsed": true
   },
   "outputs": [],
   "source": [
    "pattern = '\\d+'"
   ]
  },
  {
   "cell_type": "code",
   "execution_count": 8,
   "metadata": {
    "collapsed": true
   },
   "outputs": [],
   "source": [
    "#rows_ints = [re.findall(pattern,l) for l in rows]\n",
    "rows_ints = [list(map(int,re.findall(pattern,l))) for l in rows]\n",
    "\n",
    "## Function thought: add option to import data as category or int"
   ]
  },
  {
   "cell_type": "code",
   "execution_count": 9,
   "metadata": {},
   "outputs": [
    {
     "data": {
      "text/plain": [
       "[]"
      ]
     },
     "execution_count": 9,
     "metadata": {},
     "output_type": "execute_result"
    }
   ],
   "source": [
    "rows_ints[-1]\n",
    "#need to filter out the last row, which is empty for some reason"
   ]
  },
  {
   "cell_type": "code",
   "execution_count": 10,
   "metadata": {
    "collapsed": true
   },
   "outputs": [],
   "source": [
    "'''1. Wife's age                     (numerical)\n",
    "   2. Wife's education               (categorical)      1=low, 2, 3, 4=high\n",
    "   3. Husband's education            (categorical)      1=low, 2, 3, 4=high\n",
    "   4. Number of children ever born   (numerical)\n",
    "   5. Wife's religion                (binary)           0=Non-Islam, 1=Islam\n",
    "   6. Wife's now working?            (binary)           0=Yes, 1=No\n",
    "   7. Husband's occupation           (categorical)      1, 2, 3, 4\n",
    "   8. Standard-of-living index       (categorical)      1=low, 2, 3, 4=high\n",
    "   9. Media exposure                 (binary)           0=Good, 1=Not good\n",
    "   10. Contraceptive method used     (class attribute)  1=No-use \n",
    "                                                        2=Long-term\n",
    "                                                        3=Short-term'''\n",
    "\n",
    "\n",
    "columns = ['wife_age','wife_edu','husb_edu','num_child','wife_islam','wife_unemployed','husb_occupation','life_std','bad_media','contra_type']"
   ]
  },
  {
   "cell_type": "code",
   "execution_count": 11,
   "metadata": {
    "collapsed": true
   },
   "outputs": [],
   "source": [
    "df = pd.DataFrame.from_records(rows_ints[:-1],columns=columns)"
   ]
  },
  {
   "cell_type": "code",
   "execution_count": 12,
   "metadata": {},
   "outputs": [
    {
     "data": {
      "text/html": [
       "<div>\n",
       "<style>\n",
       "    .dataframe thead tr:only-child th {\n",
       "        text-align: right;\n",
       "    }\n",
       "\n",
       "    .dataframe thead th {\n",
       "        text-align: left;\n",
       "    }\n",
       "\n",
       "    .dataframe tbody tr th {\n",
       "        vertical-align: top;\n",
       "    }\n",
       "</style>\n",
       "<table border=\"1\" class=\"dataframe\">\n",
       "  <thead>\n",
       "    <tr style=\"text-align: right;\">\n",
       "      <th></th>\n",
       "      <th>wife_age</th>\n",
       "      <th>wife_edu</th>\n",
       "      <th>husb_edu</th>\n",
       "      <th>num_child</th>\n",
       "      <th>wife_islam</th>\n",
       "      <th>wife_unemployed</th>\n",
       "      <th>husb_occupation</th>\n",
       "      <th>life_std</th>\n",
       "      <th>bad_media</th>\n",
       "      <th>contra_type</th>\n",
       "    </tr>\n",
       "  </thead>\n",
       "  <tbody>\n",
       "    <tr>\n",
       "      <th>1468</th>\n",
       "      <td>33</td>\n",
       "      <td>4</td>\n",
       "      <td>4</td>\n",
       "      <td>2</td>\n",
       "      <td>1</td>\n",
       "      <td>0</td>\n",
       "      <td>2</td>\n",
       "      <td>4</td>\n",
       "      <td>0</td>\n",
       "      <td>3</td>\n",
       "    </tr>\n",
       "    <tr>\n",
       "      <th>1469</th>\n",
       "      <td>33</td>\n",
       "      <td>4</td>\n",
       "      <td>4</td>\n",
       "      <td>3</td>\n",
       "      <td>1</td>\n",
       "      <td>1</td>\n",
       "      <td>1</td>\n",
       "      <td>4</td>\n",
       "      <td>0</td>\n",
       "      <td>3</td>\n",
       "    </tr>\n",
       "    <tr>\n",
       "      <th>1470</th>\n",
       "      <td>39</td>\n",
       "      <td>3</td>\n",
       "      <td>3</td>\n",
       "      <td>8</td>\n",
       "      <td>1</td>\n",
       "      <td>0</td>\n",
       "      <td>1</td>\n",
       "      <td>4</td>\n",
       "      <td>0</td>\n",
       "      <td>3</td>\n",
       "    </tr>\n",
       "    <tr>\n",
       "      <th>1471</th>\n",
       "      <td>33</td>\n",
       "      <td>3</td>\n",
       "      <td>3</td>\n",
       "      <td>4</td>\n",
       "      <td>1</td>\n",
       "      <td>0</td>\n",
       "      <td>2</td>\n",
       "      <td>2</td>\n",
       "      <td>0</td>\n",
       "      <td>3</td>\n",
       "    </tr>\n",
       "    <tr>\n",
       "      <th>1472</th>\n",
       "      <td>17</td>\n",
       "      <td>3</td>\n",
       "      <td>3</td>\n",
       "      <td>1</td>\n",
       "      <td>1</td>\n",
       "      <td>1</td>\n",
       "      <td>2</td>\n",
       "      <td>4</td>\n",
       "      <td>0</td>\n",
       "      <td>3</td>\n",
       "    </tr>\n",
       "  </tbody>\n",
       "</table>\n",
       "</div>"
      ],
      "text/plain": [
       "      wife_age  wife_edu  husb_edu  num_child  wife_islam  wife_unemployed  \\\n",
       "1468        33         4         4          2           1                0   \n",
       "1469        33         4         4          3           1                1   \n",
       "1470        39         3         3          8           1                0   \n",
       "1471        33         3         3          4           1                0   \n",
       "1472        17         3         3          1           1                1   \n",
       "\n",
       "      husb_occupation  life_std  bad_media  contra_type  \n",
       "1468                2         4          0            3  \n",
       "1469                1         4          0            3  \n",
       "1470                1         4          0            3  \n",
       "1471                2         2          0            3  \n",
       "1472                2         4          0            3  "
      ]
     },
     "execution_count": 12,
     "metadata": {},
     "output_type": "execute_result"
    }
   ],
   "source": [
    "df.tail()"
   ]
  },
  {
   "cell_type": "code",
   "execution_count": 13,
   "metadata": {},
   "outputs": [
    {
     "name": "stdout",
     "output_type": "stream",
     "text": [
      "<class 'pandas.core.frame.DataFrame'>\n",
      "RangeIndex: 1473 entries, 0 to 1472\n",
      "Data columns (total 10 columns):\n",
      "wife_age           1473 non-null int64\n",
      "wife_edu           1473 non-null int64\n",
      "husb_edu           1473 non-null int64\n",
      "num_child          1473 non-null int64\n",
      "wife_islam         1473 non-null int64\n",
      "wife_unemployed    1473 non-null int64\n",
      "husb_occupation    1473 non-null int64\n",
      "life_std           1473 non-null int64\n",
      "bad_media          1473 non-null int64\n",
      "contra_type        1473 non-null int64\n",
      "dtypes: int64(10)\n",
      "memory usage: 115.2 KB\n"
     ]
    }
   ],
   "source": [
    "df.info()"
   ]
  },
  {
   "cell_type": "code",
   "execution_count": 14,
   "metadata": {},
   "outputs": [
    {
     "data": {
      "text/plain": [
       "[]"
      ]
     },
     "execution_count": 14,
     "metadata": {},
     "output_type": "execute_result"
    },
    {
     "data": {
      "image/png": "[encoded data removed]",
      "text/plain": [
       "<matplotlib.figure.Figure at 0x583b7eb6d8>"
      ]
     },
     "metadata": {},
     "output_type": "display_data"
    }
   ],
   "source": [
    "age_range = df.wife_age.max() - df.wife_age.min()\n",
    "\n",
    "df.wife_age.hist(bins=age_range,figsize=(7,5))\n",
    "plt.plot()"
   ]
  },
  {
   "cell_type": "code",
   "execution_count": 15,
   "metadata": {},
   "outputs": [
    {
     "data": {
      "text/plain": [
       "<matplotlib.axes._subplots.AxesSubplot at 0x583b8c8048>"
      ]
     },
     "execution_count": 15,
     "metadata": {},
     "output_type": "execute_result"
    },
    {
     "data": {
      "image/png": "[encoded data removed]",
      "text/plain": [
       "<matplotlib.figure.Figure at 0x583bbb3080>"
      ]
     },
     "metadata": {},
     "output_type": "display_data"
    }
   ],
   "source": [
    "sb.violinplot(x='life_std',y='wife_age',data=df)"
   ]
  },
  {
   "cell_type": "code",
   "execution_count": 16,
   "metadata": {},
   "outputs": [
    {
     "name": "stdout",
     "output_type": "stream",
     "text": [
      "--wife_edu variables:\n",
      "\n",
      "4    577\n",
      "3    410\n",
      "2    334\n",
      "1    152\n",
      "Name: wife_edu, dtype: int64 \n",
      "\n",
      "--husb_edu variables:\n",
      "\n",
      "4    899\n",
      "3    352\n",
      "2    178\n",
      "1     44\n",
      "Name: husb_edu, dtype: int64 \n",
      "\n",
      "--num_child variables:\n",
      "\n",
      "2     276\n",
      "1     276\n",
      "3     259\n",
      "4     197\n",
      "5     135\n",
      "0      97\n",
      "6      92\n",
      "7      49\n",
      "8      47\n",
      "9      16\n",
      "11     11\n",
      "10     11\n",
      "12      4\n",
      "13      2\n",
      "16      1\n",
      "Name: num_child, dtype: int64 \n",
      "\n",
      "--wife_islam variables:\n",
      "\n",
      "1    1253\n",
      "0     220\n",
      "Name: wife_islam, dtype: int64 \n",
      "\n",
      "--wife_unemployed variables:\n",
      "\n",
      "1    1104\n",
      "0     369\n",
      "Name: wife_unemployed, dtype: int64 \n",
      "\n",
      "--husb_occupation variables:\n",
      "\n",
      "3    585\n",
      "1    436\n",
      "2    425\n",
      "4     27\n",
      "Name: husb_occupation, dtype: int64 \n",
      "\n",
      "--life_std variables:\n",
      "\n",
      "4    684\n",
      "3    431\n",
      "2    229\n",
      "1    129\n",
      "Name: life_std, dtype: int64 \n",
      "\n",
      "--bad_media variables:\n",
      "\n",
      "0    1364\n",
      "1     109\n",
      "Name: bad_media, dtype: int64 \n",
      "\n",
      "--contra_type variables:\n",
      "\n",
      "1    629\n",
      "3    511\n",
      "2    333\n",
      "Name: contra_type, dtype: int64 \n",
      "\n"
     ]
    }
   ],
   "source": [
    "for c in list(df.columns)[1:]:\n",
    "    print('--{} variables:\\n'.format(c))\n",
    "    print(df[c].value_counts(),'\\n')"
   ]
  },
  {
   "cell_type": "markdown",
   "metadata": {},
   "source": [
    "#### Binning the # children and age to prep for one-hot encoding"
   ]
  },
  {
   "cell_type": "code",
   "execution_count": 17,
   "metadata": {
    "collapsed": true
   },
   "outputs": [],
   "source": [
    "df['num_children'] = pd.cut(df['num_child'],[-1,1,3,6,max(df['num_child'])],labels=['[0-1]','(1-3]','(3-6]','(6-{}]'.format(max(df['num_child']))])"
   ]
  },
  {
   "cell_type": "code",
   "execution_count": 18,
   "metadata": {},
   "outputs": [
    {
     "data": {
      "text/plain": [
       "(1-3]     535\n",
       "(3-6]     424\n",
       "[0-1]     373\n",
       "(6-16]    141\n",
       "Name: num_children, dtype: int64"
      ]
     },
     "execution_count": 18,
     "metadata": {},
     "output_type": "execute_result"
    }
   ],
   "source": [
    "df['num_children'].value_counts()"
   ]
  },
  {
   "cell_type": "code",
   "execution_count": 19,
   "metadata": {
    "collapsed": true
   },
   "outputs": [],
   "source": [
    "df['wife_range'] = pd.cut(df['wife_age'].astype('int64'),bins=[0,24,30,37,43,max(df['wife_age'])],labels=['[18-24]','(24-29]','(29-37]','(37-43]','(43-{}]'.format(max(df['wife_age']))])"
   ]
  },
  {
   "cell_type": "code",
   "execution_count": 20,
   "metadata": {},
   "outputs": [
    {
     "data": {
      "text/plain": [
       "(24-29]    394\n",
       "(29-37]    385\n",
       "[18-24]    276\n",
       "(37-43]    220\n",
       "(43-49]    198\n",
       "Name: wife_range, dtype: int64"
      ]
     },
     "execution_count": 20,
     "metadata": {},
     "output_type": "execute_result"
    }
   ],
   "source": [
    "df['wife_range'].value_counts()"
   ]
  },
  {
   "cell_type": "code",
   "execution_count": 21,
   "metadata": {},
   "outputs": [
    {
     "data": {
      "text/html": [
       "<div>\n",
       "<style>\n",
       "    .dataframe thead tr:only-child th {\n",
       "        text-align: right;\n",
       "    }\n",
       "\n",
       "    .dataframe thead th {\n",
       "        text-align: left;\n",
       "    }\n",
       "\n",
       "    .dataframe tbody tr th {\n",
       "        vertical-align: top;\n",
       "    }\n",
       "</style>\n",
       "<table border=\"1\" class=\"dataframe\">\n",
       "  <thead>\n",
       "    <tr style=\"text-align: right;\">\n",
       "      <th>num_children</th>\n",
       "      <th>[0-1]</th>\n",
       "      <th>(1-3]</th>\n",
       "      <th>(3-6]</th>\n",
       "      <th>(6-16]</th>\n",
       "    </tr>\n",
       "    <tr>\n",
       "      <th>wife_range</th>\n",
       "      <th></th>\n",
       "      <th></th>\n",
       "      <th></th>\n",
       "      <th></th>\n",
       "    </tr>\n",
       "  </thead>\n",
       "  <tbody>\n",
       "    <tr>\n",
       "      <th>[18-24]</th>\n",
       "      <td>0.601449</td>\n",
       "      <td>0.355072</td>\n",
       "      <td>0.043478</td>\n",
       "      <td>0.000000</td>\n",
       "    </tr>\n",
       "    <tr>\n",
       "      <th>(24-29]</th>\n",
       "      <td>0.314721</td>\n",
       "      <td>0.467005</td>\n",
       "      <td>0.200508</td>\n",
       "      <td>0.017766</td>\n",
       "    </tr>\n",
       "    <tr>\n",
       "      <th>(29-37]</th>\n",
       "      <td>0.088312</td>\n",
       "      <td>0.394805</td>\n",
       "      <td>0.428571</td>\n",
       "      <td>0.088312</td>\n",
       "    </tr>\n",
       "    <tr>\n",
       "      <th>(37-43]</th>\n",
       "      <td>0.100000</td>\n",
       "      <td>0.286364</td>\n",
       "      <td>0.422727</td>\n",
       "      <td>0.190909</td>\n",
       "    </tr>\n",
       "    <tr>\n",
       "      <th>(43-49]</th>\n",
       "      <td>0.136364</td>\n",
       "      <td>0.191919</td>\n",
       "      <td>0.378788</td>\n",
       "      <td>0.292929</td>\n",
       "    </tr>\n",
       "  </tbody>\n",
       "</table>\n",
       "</div>"
      ],
      "text/plain": [
       "num_children     [0-1]     (1-3]     (3-6]    (6-16]\n",
       "wife_range                                          \n",
       "[18-24]       0.601449  0.355072  0.043478  0.000000\n",
       "(24-29]       0.314721  0.467005  0.200508  0.017766\n",
       "(29-37]       0.088312  0.394805  0.428571  0.088312\n",
       "(37-43]       0.100000  0.286364  0.422727  0.190909\n",
       "(43-49]       0.136364  0.191919  0.378788  0.292929"
      ]
     },
     "execution_count": 21,
     "metadata": {},
     "output_type": "execute_result"
    }
   ],
   "source": [
    "df_2 = pd.crosstab(df['wife_range'],df['num_children'],normalize='index')\n",
    "df_2"
   ]
  },
  {
   "cell_type": "code",
   "execution_count": 22,
   "metadata": {},
   "outputs": [
    {
     "data": {
      "text/plain": [
       "<matplotlib.axes._subplots.AxesSubplot at 0x583bfe8ba8>"
      ]
     },
     "execution_count": 22,
     "metadata": {},
     "output_type": "execute_result"
    },
    {
     "data": {
      "image/png": "[encoded data removed]",
      "text/plain": [
       "<matplotlib.figure.Figure at 0x583bfac2e8>"
      ]
     },
     "metadata": {},
     "output_type": "display_data"
    }
   ],
   "source": [
    "df_3 = pd.crosstab(df['num_children'],df['contra_type'],normalize='index')\n",
    "df_3.plot(marker='d',markerfacecolor='none',linestyle='-.')"
   ]
  },
  {
   "cell_type": "code",
   "execution_count": 23,
   "metadata": {},
   "outputs": [
    {
     "data": {
      "text/plain": [
       "<matplotlib.axes._subplots.AxesSubplot at 0x583c060be0>"
      ]
     },
     "execution_count": 23,
     "metadata": {},
     "output_type": "execute_result"
    },
    {
     "data": {
      "image/png": "[encoded data removed]",
      "text/plain": [
       "<matplotlib.figure.Figure at 0x583bfbea90>"
      ]
     },
     "metadata": {},
     "output_type": "display_data"
    }
   ],
   "source": [
    "df_4 = pd.crosstab(df['wife_range'],df['contra_type'],normalize='index')\n",
    "df_4.plot(marker='d',markerfacecolor='none',linestyle='-.',figsize=(9,7))"
   ]
  },
  {
   "cell_type": "markdown",
   "metadata": {},
   "source": [
    "- Normalized the frequency counts due to the discrepancy in population. When looking at raw totals, it appears as though contraceptive type 1 decreases with age, but the proportion of women using no contraception actually appears to increase after around age 37."
   ]
  },
  {
   "cell_type": "code",
   "execution_count": 24,
   "metadata": {
    "collapsed": true
   },
   "outputs": [],
   "source": [
    "df.drop(['wife_age','num_child'],axis=1,inplace=True)"
   ]
  },
  {
   "cell_type": "code",
   "execution_count": 25,
   "metadata": {
    "collapsed": true
   },
   "outputs": [],
   "source": [
    "for c in ['wife_edu','husb_edu','husb_occupation','life_std','contra_type']:\n",
    "    df[c] = df[c].astype('category')"
   ]
  },
  {
   "cell_type": "code",
   "execution_count": 26,
   "metadata": {},
   "outputs": [
    {
     "data": {
      "text/html": [
       "<div>\n",
       "<style>\n",
       "    .dataframe thead tr:only-child th {\n",
       "        text-align: right;\n",
       "    }\n",
       "\n",
       "    .dataframe thead th {\n",
       "        text-align: left;\n",
       "    }\n",
       "\n",
       "    .dataframe tbody tr th {\n",
       "        vertical-align: top;\n",
       "    }\n",
       "</style>\n",
       "<table border=\"1\" class=\"dataframe\">\n",
       "  <thead>\n",
       "    <tr style=\"text-align: right;\">\n",
       "      <th></th>\n",
       "      <th>wife_islam</th>\n",
       "      <th>wife_unemployed</th>\n",
       "      <th>bad_media</th>\n",
       "      <th>wife_edu_1</th>\n",
       "      <th>wife_edu_2</th>\n",
       "      <th>wife_edu_3</th>\n",
       "      <th>wife_edu_4</th>\n",
       "      <th>husb_edu_1</th>\n",
       "      <th>husb_edu_2</th>\n",
       "      <th>husb_edu_3</th>\n",
       "      <th>...</th>\n",
       "      <th>contra_type_3</th>\n",
       "      <th>num_children_[0-1]</th>\n",
       "      <th>num_children_(1-3]</th>\n",
       "      <th>num_children_(3-6]</th>\n",
       "      <th>num_children_(6-16]</th>\n",
       "      <th>wife_range_[18-24]</th>\n",
       "      <th>wife_range_(24-29]</th>\n",
       "      <th>wife_range_(29-37]</th>\n",
       "      <th>wife_range_(37-43]</th>\n",
       "      <th>wife_range_(43-49]</th>\n",
       "    </tr>\n",
       "  </thead>\n",
       "  <tbody>\n",
       "    <tr>\n",
       "      <th>0</th>\n",
       "      <td>1</td>\n",
       "      <td>1</td>\n",
       "      <td>0</td>\n",
       "      <td>0</td>\n",
       "      <td>1</td>\n",
       "      <td>0</td>\n",
       "      <td>0</td>\n",
       "      <td>0</td>\n",
       "      <td>0</td>\n",
       "      <td>1</td>\n",
       "      <td>...</td>\n",
       "      <td>0</td>\n",
       "      <td>0</td>\n",
       "      <td>1</td>\n",
       "      <td>0</td>\n",
       "      <td>0</td>\n",
       "      <td>1</td>\n",
       "      <td>0</td>\n",
       "      <td>0</td>\n",
       "      <td>0</td>\n",
       "      <td>0</td>\n",
       "    </tr>\n",
       "    <tr>\n",
       "      <th>1</th>\n",
       "      <td>1</td>\n",
       "      <td>1</td>\n",
       "      <td>0</td>\n",
       "      <td>1</td>\n",
       "      <td>0</td>\n",
       "      <td>0</td>\n",
       "      <td>0</td>\n",
       "      <td>0</td>\n",
       "      <td>0</td>\n",
       "      <td>1</td>\n",
       "      <td>...</td>\n",
       "      <td>0</td>\n",
       "      <td>0</td>\n",
       "      <td>0</td>\n",
       "      <td>0</td>\n",
       "      <td>1</td>\n",
       "      <td>0</td>\n",
       "      <td>0</td>\n",
       "      <td>0</td>\n",
       "      <td>0</td>\n",
       "      <td>1</td>\n",
       "    </tr>\n",
       "    <tr>\n",
       "      <th>2</th>\n",
       "      <td>1</td>\n",
       "      <td>1</td>\n",
       "      <td>0</td>\n",
       "      <td>0</td>\n",
       "      <td>1</td>\n",
       "      <td>0</td>\n",
       "      <td>0</td>\n",
       "      <td>0</td>\n",
       "      <td>0</td>\n",
       "      <td>1</td>\n",
       "      <td>...</td>\n",
       "      <td>0</td>\n",
       "      <td>0</td>\n",
       "      <td>0</td>\n",
       "      <td>0</td>\n",
       "      <td>1</td>\n",
       "      <td>0</td>\n",
       "      <td>0</td>\n",
       "      <td>0</td>\n",
       "      <td>1</td>\n",
       "      <td>0</td>\n",
       "    </tr>\n",
       "    <tr>\n",
       "      <th>3</th>\n",
       "      <td>1</td>\n",
       "      <td>1</td>\n",
       "      <td>0</td>\n",
       "      <td>0</td>\n",
       "      <td>0</td>\n",
       "      <td>1</td>\n",
       "      <td>0</td>\n",
       "      <td>0</td>\n",
       "      <td>1</td>\n",
       "      <td>0</td>\n",
       "      <td>...</td>\n",
       "      <td>0</td>\n",
       "      <td>0</td>\n",
       "      <td>0</td>\n",
       "      <td>0</td>\n",
       "      <td>1</td>\n",
       "      <td>0</td>\n",
       "      <td>0</td>\n",
       "      <td>0</td>\n",
       "      <td>1</td>\n",
       "      <td>0</td>\n",
       "    </tr>\n",
       "    <tr>\n",
       "      <th>4</th>\n",
       "      <td>1</td>\n",
       "      <td>1</td>\n",
       "      <td>0</td>\n",
       "      <td>0</td>\n",
       "      <td>0</td>\n",
       "      <td>1</td>\n",
       "      <td>0</td>\n",
       "      <td>0</td>\n",
       "      <td>0</td>\n",
       "      <td>1</td>\n",
       "      <td>...</td>\n",
       "      <td>0</td>\n",
       "      <td>0</td>\n",
       "      <td>0</td>\n",
       "      <td>0</td>\n",
       "      <td>1</td>\n",
       "      <td>0</td>\n",
       "      <td>0</td>\n",
       "      <td>1</td>\n",
       "      <td>0</td>\n",
       "      <td>0</td>\n",
       "    </tr>\n",
       "  </tbody>\n",
       "</table>\n",
       "<p>5 rows × 31 columns</p>\n",
       "</div>"
      ],
      "text/plain": [
       "   wife_islam  wife_unemployed  bad_media  wife_edu_1  wife_edu_2  wife_edu_3  \\\n",
       "0           1                1          0           0           1           0   \n",
       "1           1                1          0           1           0           0   \n",
       "2           1                1          0           0           1           0   \n",
       "3           1                1          0           0           0           1   \n",
       "4           1                1          0           0           0           1   \n",
       "\n",
       "   wife_edu_4  husb_edu_1  husb_edu_2  husb_edu_3         ...          \\\n",
       "0           0           0           0           1         ...           \n",
       "1           0           0           0           1         ...           \n",
       "2           0           0           0           1         ...           \n",
       "3           0           0           1           0         ...           \n",
       "4           0           0           0           1         ...           \n",
       "\n",
       "   contra_type_3  num_children_[0-1]  num_children_(1-3]  num_children_(3-6]  \\\n",
       "0              0                   0                   1                   0   \n",
       "1              0                   0                   0                   0   \n",
       "2              0                   0                   0                   0   \n",
       "3              0                   0                   0                   0   \n",
       "4              0                   0                   0                   0   \n",
       "\n",
       "   num_children_(6-16]  wife_range_[18-24]  wife_range_(24-29]  \\\n",
       "0                    0                   1                   0   \n",
       "1                    1                   0                   0   \n",
       "2                    1                   0                   0   \n",
       "3                    1                   0                   0   \n",
       "4                    1                   0                   0   \n",
       "\n",
       "   wife_range_(29-37]  wife_range_(37-43]  wife_range_(43-49]  \n",
       "0                   0                   0                   0  \n",
       "1                   0                   0                   1  \n",
       "2                   0                   1                   0  \n",
       "3                   0                   1                   0  \n",
       "4                   1                   0                   0  \n",
       "\n",
       "[5 rows x 31 columns]"
      ]
     },
     "execution_count": 26,
     "metadata": {},
     "output_type": "execute_result"
    }
   ],
   "source": [
    "df_dummies = pd.get_dummies(df)\n",
    "df_dummies.head()"
   ]
  },
  {
   "cell_type": "code",
   "execution_count": 27,
   "metadata": {
    "collapsed": true
   },
   "outputs": [],
   "source": [
    "def sigmoid(array):\n",
    "    sig = 1 + (1 - np.exp(-array))\n",
    "    return sig"
   ]
  },
  {
   "cell_type": "code",
   "execution_count": 28,
   "metadata": {},
   "outputs": [],
   "source": [
    "def reorder_df(df,list_of_targets=None):\n",
    "    #quick function to change column order in dataframe\n",
    "    \n",
    "    if list_of_targets is None:\n",
    "        list_of_targets = ['contra_type_1','contra_type_2','contra_type_3']\n",
    "\n",
    "    columns = list(df.columns)\n",
    "    \n",
    "    for i in list_of_targets:\n",
    "        columns.pop(columns.index(i))\n",
    "        columns.append(i)\n",
    "\n",
    "    df = df.loc[:,columns]\n",
    "    return df\n"
   ]
  },
  {
   "cell_type": "code",
   "execution_count": 29,
   "metadata": {},
   "outputs": [],
   "source": [
    "df_dummies = reorder_df(df_dummies)"
   ]
  },
  {
   "cell_type": "code",
   "execution_count": 30,
   "metadata": {},
   "outputs": [
    {
     "name": "stdout",
     "output_type": "stream",
     "text": [
      "<class 'pandas.core.frame.DataFrame'>\n",
      "RangeIndex: 1473 entries, 0 to 1472\n",
      "Data columns (total 31 columns):\n",
      "wife_islam             1473 non-null int64\n",
      "wife_unemployed        1473 non-null int64\n",
      "bad_media              1473 non-null int64\n",
      "wife_edu_1             1473 non-null uint8\n",
      "wife_edu_2             1473 non-null uint8\n",
      "wife_edu_3             1473 non-null uint8\n",
      "wife_edu_4             1473 non-null uint8\n",
      "husb_edu_1             1473 non-null uint8\n",
      "husb_edu_2             1473 non-null uint8\n",
      "husb_edu_3             1473 non-null uint8\n",
      "husb_edu_4             1473 non-null uint8\n",
      "husb_occupation_1      1473 non-null uint8\n",
      "husb_occupation_2      1473 non-null uint8\n",
      "husb_occupation_3      1473 non-null uint8\n",
      "husb_occupation_4      1473 non-null uint8\n",
      "life_std_1             1473 non-null uint8\n",
      "life_std_2             1473 non-null uint8\n",
      "life_std_3             1473 non-null uint8\n",
      "life_std_4             1473 non-null uint8\n",
      "num_children_[0-1]     1473 non-null uint8\n",
      "num_children_(1-3]     1473 non-null uint8\n",
      "num_children_(3-6]     1473 non-null uint8\n",
      "num_children_(6-16]    1473 non-null uint8\n",
      "wife_range_[18-24]     1473 non-null uint8\n",
      "wife_range_(24-29]     1473 non-null uint8\n",
      "wife_range_(29-37]     1473 non-null uint8\n",
      "wife_range_(37-43]     1473 non-null uint8\n",
      "wife_range_(43-49]     1473 non-null uint8\n",
      "contra_type_1          1473 non-null uint8\n",
      "contra_type_2          1473 non-null uint8\n",
      "contra_type_3          1473 non-null uint8\n",
      "dtypes: int64(3), uint8(28)\n",
      "memory usage: 74.9 KB\n"
     ]
    }
   ],
   "source": [
    "df_dummies.info()"
   ]
  },
  {
   "cell_type": "code",
   "execution_count": 31,
   "metadata": {
    "collapsed": true
   },
   "outputs": [],
   "source": [
    "df_features = df_dummies.iloc[:,:-3]\n",
    "df_targets = df_dummies.iloc[:,-3:]"
   ]
  },
  {
   "cell_type": "code",
   "execution_count": 32,
   "metadata": {},
   "outputs": [],
   "source": [
    "features_matrix = df_features.as_matrix()\n",
    "targets_matrix = df_targets.as_matrix()"
   ]
  },
  {
   "cell_type": "code",
   "execution_count": 33,
   "metadata": {},
   "outputs": [],
   "source": [
    "weights = np.zeros(features_matrix.shape[1])"
   ]
  },
  {
   "cell_type": "code",
   "execution_count": 34,
   "metadata": {},
   "outputs": [],
   "source": [
    "predictions = sigmoid(np.dot(features_matrix,weights))"
   ]
  },
  {
   "cell_type": "code",
   "execution_count": 35,
   "metadata": {},
   "outputs": [
    {
     "data": {
      "text/plain": [
       "0.4270196877121521"
      ]
     },
     "execution_count": 35,
     "metadata": {},
     "output_type": "execute_result"
    }
   ],
   "source": [
    "sum(np.round(predictions)==targets_matrix[:,0])/len(targets_matrix[:,0])"
   ]
  },
  {
   "cell_type": "code",
   "execution_count": 36,
   "metadata": {},
   "outputs": [
    {
     "data": {
      "text/plain": [
       "array([ 1.,  1.,  1., ...,  1.,  1.,  1.])"
      ]
     },
     "execution_count": 36,
     "metadata": {},
     "output_type": "execute_result"
    }
   ],
   "source": [
    "predictions"
   ]
  },
  {
   "cell_type": "code",
   "execution_count": 37,
   "metadata": {},
   "outputs": [
    {
     "data": {
      "text/plain": [
       "array([ 699.,  645.,   35.,   49.,  158.,  235.,  402.,   13.,   79.,\n",
       "        191.,  561.,  278.,  225.,  327.,   14.,   49.,  112.,  247.,\n",
       "        436.,  135.,  351.,  288.,   70.,  150.,  243.,  260.,  119.,   72.])"
      ]
     },
     "execution_count": 37,
     "metadata": {},
     "output_type": "execute_result"
    }
   ],
   "source": [
    "weights_gradient = np.dot(features_matrix.T,(predictions-targets_matrix[:,0]))\n",
    "weights_gradient"
   ]
  },
  {
   "cell_type": "code",
   "execution_count": 38,
   "metadata": {},
   "outputs": [
    {
     "data": {
      "text/plain": [
       "array([ 0.47454175,  0.43788187,  0.02376103,  0.03326544,  0.10726409,\n",
       "        0.15953836,  0.27291242,  0.00882553,  0.05363204,  0.12966735,\n",
       "        0.3808554 ,  0.18873048,  0.15274949,  0.22199593,  0.00950441,\n",
       "        0.03326544,  0.0760353 ,  0.167685  ,  0.29599457,  0.09164969,\n",
       "        0.23828921,  0.19551935,  0.04752206,  0.10183299,  0.16496945,\n",
       "        0.17651052,  0.08078751,  0.04887984])"
      ]
     },
     "execution_count": 38,
     "metadata": {},
     "output_type": "execute_result"
    }
   ],
   "source": [
    "weights_gradient = weights_gradient / features_matrix.shape[0]\n",
    "weights_gradient"
   ]
  },
  {
   "cell_type": "code",
   "execution_count": 39,
   "metadata": {},
   "outputs": [
    {
     "data": {
      "text/plain": [
       "array([-0.02372709, -0.02189409, -0.00118805, -0.00166327, -0.0053632 ,\n",
       "       -0.00797692, -0.01364562, -0.00044128, -0.0026816 , -0.00648337,\n",
       "       -0.01904277, -0.00943652, -0.00763747, -0.0110998 , -0.00047522,\n",
       "       -0.00166327, -0.00380177, -0.00838425, -0.01479973, -0.00458248,\n",
       "       -0.01191446, -0.00977597, -0.0023761 , -0.00509165, -0.00824847,\n",
       "       -0.00882553, -0.00403938, -0.00244399])"
      ]
     },
     "execution_count": 39,
     "metadata": {},
     "output_type": "execute_result"
    }
   ],
   "source": [
    "weights = weights - (weights_gradient*0.05)\n",
    "weights"
   ]
  },
  {
   "cell_type": "code",
   "execution_count": 40,
   "metadata": {
    "collapsed": true
   },
   "outputs": [],
   "source": [
    "gradient_df = pd.DataFrame()"
   ]
  },
  {
   "cell_type": "code",
   "execution_count": 41,
   "metadata": {
    "collapsed": true
   },
   "outputs": [],
   "source": [
    "def log_loss(predictions,actual,eps=1e-15):\n",
    "    '''take an array of prediction probabilities (clipped to avoid undefined values) and measures accuracy while\n",
    "    also factoring for confidence'''\n",
    "    #assert (max(predictions)<=1 and min(predictions)>=0), 'Please make sure to use predict_proba'\n",
    "    \n",
    "    preds_clipped = np.clip(predictions,eps,1-eps)\n",
    "    \n",
    "    loss = -1 * np.mean((actual * np.log(preds_clipped)) + ((1-actual) * np.log(1-preds_clipped)))\n",
    "    \n",
    "    return loss"
   ]
  },
  {
   "cell_type": "code",
   "execution_count": 42,
   "metadata": {
    "collapsed": true
   },
   "outputs": [],
   "source": [
    "from sklearn.metrics import accuracy_score, roc_auc_score"
   ]
  },
  {
   "cell_type": "markdown",
   "metadata": {},
   "source": [
    "## Testing Gradient Descent ##\n",
    "### Target Variable: Contraceptive Type 1 (No Contraceptive)"
   ]
  },
  {
   "cell_type": "markdown",
   "metadata": {},
   "source": [
    "- Keep in mind, this is not a final prediction\n",
    "- No train/test split, just to peek at which factors have greatest influence on classification"
   ]
  },
  {
   "cell_type": "code",
   "execution_count": 43,
   "metadata": {},
   "outputs": [
    {
     "name": "stdout",
     "output_type": "stream",
     "text": [
      "0.42702\n",
      "0.70604\n",
      "0.70876\n"
     ]
    }
   ],
   "source": [
    "weights = np.zeros(features_matrix.shape[1])\n",
    "targets = targets_matrix[:,0]\n",
    "\n",
    "row_list = []\n",
    "\n",
    "for i in range(1000):\n",
    "    prediction_proba = sigmoid(np.dot(features_matrix,weights))\n",
    "    \n",
    "    weights_gradient = np.dot(features_matrix.T,(prediction_proba-targets)) / features_matrix.shape[0]\n",
    "    \n",
    "    weights = weights - (weights_gradient*0.1)\n",
    "    \n",
    "    predictions = np.round(prediction_proba)\n",
    "    \n",
    "    row_list.append([*weights,roc_auc_score(targets,prediction_proba),log_loss(prediction_proba,targets),accuracy_score(targets,predictions)])\n",
    "    \n",
    "    if i % 100 == 0:\n",
    "        print(round(sum(predictions==targets)/len(targets_matrix[:,0]),5))\n",
    "        \n",
    "    if i > 50:\n",
    "        if abs((row_list[i][-3] - row_list[i-50][-3]) / row_list[i][-3]) < 0.001:\n",
    "            break\n",
    "        \n",
    "gradient_df = pd.DataFrame(row_list)\n",
    "    \n",
    "    "
   ]
  },
  {
   "cell_type": "code",
   "execution_count": 44,
   "metadata": {},
   "outputs": [],
   "source": [
    "columns_list = list(df_features.columns)\n",
    "columns_list.extend(('auc_score','log_loss','accuracy_score'))"
   ]
  },
  {
   "cell_type": "code",
   "execution_count": 45,
   "metadata": {},
   "outputs": [],
   "source": [
    "top_auc_score = gradient_df.loc[:,28].idxmax(axis=1)"
   ]
  },
  {
   "cell_type": "code",
   "execution_count": 46,
   "metadata": {},
   "outputs": [],
   "source": [
    "best_weights_for_loss= [(x,y) for x,y in zip(gradient_df.iloc[top_auc_score,].values,columns_list)]\n",
    "best_weights_for_loss.sort(key = lambda x: x[0],reverse=True)"
   ]
  },
  {
   "cell_type": "markdown",
   "metadata": {},
   "source": [
    "### Sanity Checks###\n",
    "\n",
    "** Positive contributing factors to non-use of contraception: **"
   ]
  },
  {
   "cell_type": "code",
   "execution_count": 47,
   "metadata": {},
   "outputs": [
    {
     "data": {
      "text/plain": [
       "[(0.12339809841809324, 'num_children_[0-1]'),\n",
       " (0.092059770648329001, 'wife_range_(43-49]'),\n",
       " (0.06021613569202415, 'bad_media'),\n",
       " (0.025141885917497882, 'wife_edu_1'),\n",
       " (0.017340525099032375, 'wife_islam')]"
      ]
     },
     "execution_count": 47,
     "metadata": {},
     "output_type": "execute_result"
    }
   ],
   "source": [
    "best_weights_for_loss[3:8]"
   ]
  },
  {
   "cell_type": "markdown",
   "metadata": {},
   "source": [
    "** Negative contributing factors to non-use of contraception: **"
   ]
  },
  {
   "cell_type": "code",
   "execution_count": 48,
   "metadata": {},
   "outputs": [
    {
     "data": {
      "text/plain": [
       "[(-0.12172564522878283, 'wife_range_(24-29]'),\n",
       " (-0.12868726861442867, 'num_children_(6-16]'),\n",
       " (-0.14871104445635577, 'wife_range_[18-24]'),\n",
       " (-0.15989638142582693, 'num_children_(3-6]'),\n",
       " (-0.17816954618826547, 'wife_edu_4')]"
      ]
     },
     "execution_count": 48,
     "metadata": {},
     "output_type": "execute_result"
    }
   ],
   "source": [
    "best_weights_for_loss[-5:]"
   ]
  },
  {
   "cell_type": "code",
   "execution_count": 49,
   "metadata": {
    "collapsed": true
   },
   "outputs": [],
   "source": [
    "from sklearn.naive_bayes import BernoulliNB"
   ]
  },
  {
   "cell_type": "code",
   "execution_count": 50,
   "metadata": {
    "collapsed": true
   },
   "outputs": [],
   "source": [
    "bern = BernoulliNB(alpha=0.1)"
   ]
  },
  {
   "cell_type": "code",
   "execution_count": 51,
   "metadata": {},
   "outputs": [
    {
     "data": {
      "text/plain": [
       "BernoulliNB(alpha=0.1, binarize=0.0, class_prior=None, fit_prior=True)"
      ]
     },
     "execution_count": 51,
     "metadata": {},
     "output_type": "execute_result"
    }
   ],
   "source": [
    "bern.fit(features_matrix,targets_matrix[:,0])"
   ]
  },
  {
   "cell_type": "code",
   "execution_count": 52,
   "metadata": {},
   "outputs": [
    {
     "data": {
      "text/plain": [
       "0.65241004752206377"
      ]
     },
     "execution_count": 52,
     "metadata": {},
     "output_type": "execute_result"
    }
   ],
   "source": [
    "sum(bern.predict(features_matrix) == targets_matrix[:,0]) / len(targets_matrix[:,0])"
   ]
  },
  {
   "cell_type": "markdown",
   "metadata": {},
   "source": [
    "- Is my homemade function/ for-loop outperforming out of the box Bernoulli NB??"
   ]
  },
  {
   "cell_type": "code",
   "execution_count": null,
   "metadata": {
    "collapsed": true
   },
   "outputs": [],
   "source": []
  }
 ],
 "metadata": {
  "kernelspec": {
   "display_name": "Python 3",
   "language": "python",
   "name": "python3"
  },
  "language_info": {
   "codemirror_mode": {
    "name": "ipython",
    "version": 3
   },
   "file_extension": ".py",
   "mimetype": "text/x-python",
   "name": "python",
   "nbconvert_exporter": "python",
   "pygments_lexer": "ipython3",
   "version": "3.6.3"
  }
 },
 "nbformat": 4,
 "nbformat_minor": 2
}
