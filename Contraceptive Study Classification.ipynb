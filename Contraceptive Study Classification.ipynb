{
 "cells": [
  {
   "cell_type": "markdown",
   "metadata": {},
   "source": [
    "# Contraceptive Use in Indonesia: 1987 Study #\n",
    "\n",
    "## Source: UCI Machine Learning Repository ##\n",
    "### URL: [WebLink](https://archive.ics.uci.edu/ml/datasets/Contraceptive+Method+Choice)\n",
    "\n",
    "\n",
    "Source:\n",
    "\n",
    "** Origin: **\n",
    "- This dataset is a subset of the 1987 National Indonesia Contraceptive Prevalence Survey \n",
    "\n",
    "** Creator and Donor: **\n",
    "- [Tjen-Sien Lim](limt@stat.wisc.edu) \n",
    "\n",
    "** Relevant Papers:**\n",
    "- [Lim, T.-S., Loh, W.-Y. & Shih, Y.-S. (1999). A Comparison of Prediction Accuracy, Complexity, and Training Time of Thirty-three Old and New Classification Algorithms. Machine Learning](http://www.stat.wisc.edu/~loh/treeprogs/guide/mach1317.pdf)"
   ]
  },
  {
   "cell_type": "code",
   "execution_count": 1,
   "metadata": {
    "collapsed": false
   },
   "outputs": [
    {
     "data": {
      "text/plain": [
       "'\\ncurdoc().add_root(layout)\\n\\nin the shell:\\n\\nbokeh serve --show myapplication.py\\n'"
      ]
     },
     "execution_count": 1,
     "metadata": {},
     "output_type": "execute_result"
    }
   ],
   "source": [
    "data = 'https://archive.ics.uci.edu/ml/machine-learning-databases/cmc/cmc.data'\n",
    "\n",
    "import pandas as pd\n",
    "import numpy as np\n",
    "import requests\n",
    "import re\n",
    "\n",
    "import matplotlib.pyplot as plt\n",
    "import seaborn as sb\n",
    "import bokeh as bk\n",
    "from bokeh.models import ColumnDataSource, HoverTool, CategoricalColorMapper, Slider\n",
    "from bokeh.io import curdoc, show, output_notebook, push_notebook, output_file\n",
    "from bokeh.layouts import widgetbox, column, row, gridplot\n",
    "from bokeh.plotting import figure\n",
    "\n",
    "%matplotlib inline\n",
    "plt.style.use('bmh')\n",
    "\n",
    "pink_green = 'PiYG'\n",
    "paired_colors = 'Paired'\n",
    "\n",
    "\n",
    "##for CatColorMapper, \n",
    "''' \n",
    "CatColMap = CategoricalColorMapper(factors =[], palette = [])\n",
    "Hover = HoverTool(tooltips=[('string label','@column_name')])\n",
    "\n",
    "plot.add_tools(Hover)\n",
    "plot.circle(x,y,source=source,color={'field':[column_name],'transform':[CatColMap]})'''\n",
    "\n",
    "##for gridplot,\n",
    "'''\n",
    "layout = gridplot(list of rows)\n",
    "gridplot shares the toolbar for all plots\n",
    "'''\n",
    "\n",
    "##for callbacks,\n",
    "'''\n",
    "def callback(attr,old,new):\n",
    "    [insert Slider function]\n",
    "    \n",
    "slider.on_change('value',callback)\n",
    "'''\n",
    "\n",
    "##for bokeh server,\n",
    "'''\n",
    "curdoc().add_root(layout)\n",
    "\n",
    "in the shell:\n",
    "\n",
    "bokeh serve --show myapplication.py\n",
    "'''"
   ]
  },
  {
   "cell_type": "code",
   "execution_count": 2,
   "metadata": {
    "collapsed": true
   },
   "outputs": [],
   "source": [
    "url = requests.get(data)"
   ]
  },
  {
   "cell_type": "code",
   "execution_count": 3,
   "metadata": {
    "collapsed": false
   },
   "outputs": [
    {
     "data": {
      "text/plain": [
       "'24,2,3,3,1,1,2,3,0,1\\n45,1,3,10,1,1,3,4,0,1\\n43,2,3,7,1,1,3,4,0,1\\n42,3,2,9,1,1,3,3,0,1\\n36,3,3,8,1,1,3,'"
      ]
     },
     "execution_count": 3,
     "metadata": {},
     "output_type": "execute_result"
    }
   ],
   "source": [
    "url.text[:100]"
   ]
  },
  {
   "cell_type": "code",
   "execution_count": 4,
   "metadata": {
    "collapsed": true
   },
   "outputs": [],
   "source": [
    "rows = url.text.split(sep='\\n')"
   ]
  },
  {
   "cell_type": "code",
   "execution_count": 5,
   "metadata": {
    "collapsed": false
   },
   "outputs": [
    {
     "data": {
      "text/plain": [
       "'24,2,3,3,1,1,2,3,0,1'"
      ]
     },
     "execution_count": 5,
     "metadata": {},
     "output_type": "execute_result"
    }
   ],
   "source": [
    "rows[0]"
   ]
  },
  {
   "cell_type": "code",
   "execution_count": 6,
   "metadata": {
    "collapsed": true
   },
   "outputs": [],
   "source": [
    "rows_lists = [[l] for l in rows]"
   ]
  },
  {
   "cell_type": "code",
   "execution_count": 7,
   "metadata": {
    "collapsed": true
   },
   "outputs": [],
   "source": [
    "pattern = '\\d+'"
   ]
  },
  {
   "cell_type": "code",
   "execution_count": 8,
   "metadata": {
    "collapsed": true
   },
   "outputs": [],
   "source": [
    "#rows_ints = [re.findall(pattern,l) for l in rows]\n",
    "rows_ints = [list(map(int,re.findall(pattern,l))) for l in rows]\n",
    "\n",
    "## Function thought: add option to import data as category or int"
   ]
  },
  {
   "cell_type": "code",
   "execution_count": 9,
   "metadata": {
    "collapsed": false
   },
   "outputs": [
    {
     "data": {
      "text/plain": [
       "[]"
      ]
     },
     "execution_count": 9,
     "metadata": {},
     "output_type": "execute_result"
    }
   ],
   "source": [
    "rows_ints[-1]\n",
    "#need to filter out the last row, which is empty for some reason"
   ]
  },
  {
   "cell_type": "code",
   "execution_count": 10,
   "metadata": {
    "collapsed": true
   },
   "outputs": [],
   "source": [
    "'''1. Wife's age                     (numerical)\n",
    "   2. Wife's education               (categorical)      1=low, 2, 3, 4=high\n",
    "   3. Husband's education            (categorical)      1=low, 2, 3, 4=high\n",
    "   4. Number of children ever born   (numerical)\n",
    "   5. Wife's religion                (binary)           0=Non-Islam, 1=Islam\n",
    "   6. Wife's now working?            (binary)           0=Yes, 1=No\n",
    "   7. Husband's occupation           (categorical)      1, 2, 3, 4\n",
    "   8. Standard-of-living index       (categorical)      1=low, 2, 3, 4=high\n",
    "   9. Media exposure                 (binary)           0=Good, 1=Not good\n",
    "   10. Contraceptive method used     (class attribute)  1=No-use \n",
    "                                                        2=Long-term\n",
    "                                                        3=Short-term'''\n",
    "\n",
    "\n",
    "columns = ['wife_age','wife_edu','husb_edu','num_child','wife_islam','wife_unemployed','husb_occupation','life_std','bad_media','contra_type']"
   ]
  },
  {
   "cell_type": "code",
   "execution_count": 11,
   "metadata": {
    "collapsed": true
   },
   "outputs": [],
   "source": [
    "df = pd.DataFrame.from_records(rows_ints[:-1],columns=columns)"
   ]
  },
  {
   "cell_type": "code",
   "execution_count": 12,
   "metadata": {
    "collapsed": false
   },
   "outputs": [
    {
     "data": {
      "text/html": [
       "<div>\n",
       "<table border=\"1\" class=\"dataframe\">\n",
       "  <thead>\n",
       "    <tr style=\"text-align: right;\">\n",
       "      <th></th>\n",
       "      <th>wife_age</th>\n",
       "      <th>wife_edu</th>\n",
       "      <th>husb_edu</th>\n",
       "      <th>num_child</th>\n",
       "      <th>wife_islam</th>\n",
       "      <th>wife_unemployed</th>\n",
       "      <th>husb_occupation</th>\n",
       "      <th>life_std</th>\n",
       "      <th>bad_media</th>\n",
       "      <th>contra_type</th>\n",
       "    </tr>\n",
       "  </thead>\n",
       "  <tbody>\n",
       "    <tr>\n",
       "      <th>1468</th>\n",
       "      <td>33</td>\n",
       "      <td>4</td>\n",
       "      <td>4</td>\n",
       "      <td>2</td>\n",
       "      <td>1</td>\n",
       "      <td>0</td>\n",
       "      <td>2</td>\n",
       "      <td>4</td>\n",
       "      <td>0</td>\n",
       "      <td>3</td>\n",
       "    </tr>\n",
       "    <tr>\n",
       "      <th>1469</th>\n",
       "      <td>33</td>\n",
       "      <td>4</td>\n",
       "      <td>4</td>\n",
       "      <td>3</td>\n",
       "      <td>1</td>\n",
       "      <td>1</td>\n",
       "      <td>1</td>\n",
       "      <td>4</td>\n",
       "      <td>0</td>\n",
       "      <td>3</td>\n",
       "    </tr>\n",
       "    <tr>\n",
       "      <th>1470</th>\n",
       "      <td>39</td>\n",
       "      <td>3</td>\n",
       "      <td>3</td>\n",
       "      <td>8</td>\n",
       "      <td>1</td>\n",
       "      <td>0</td>\n",
       "      <td>1</td>\n",
       "      <td>4</td>\n",
       "      <td>0</td>\n",
       "      <td>3</td>\n",
       "    </tr>\n",
       "    <tr>\n",
       "      <th>1471</th>\n",
       "      <td>33</td>\n",
       "      <td>3</td>\n",
       "      <td>3</td>\n",
       "      <td>4</td>\n",
       "      <td>1</td>\n",
       "      <td>0</td>\n",
       "      <td>2</td>\n",
       "      <td>2</td>\n",
       "      <td>0</td>\n",
       "      <td>3</td>\n",
       "    </tr>\n",
       "    <tr>\n",
       "      <th>1472</th>\n",
       "      <td>17</td>\n",
       "      <td>3</td>\n",
       "      <td>3</td>\n",
       "      <td>1</td>\n",
       "      <td>1</td>\n",
       "      <td>1</td>\n",
       "      <td>2</td>\n",
       "      <td>4</td>\n",
       "      <td>0</td>\n",
       "      <td>3</td>\n",
       "    </tr>\n",
       "  </tbody>\n",
       "</table>\n",
       "</div>"
      ],
      "text/plain": [
       "      wife_age  wife_edu  husb_edu  num_child  wife_islam  wife_unemployed  \\\n",
       "1468        33         4         4          2           1                0   \n",
       "1469        33         4         4          3           1                1   \n",
       "1470        39         3         3          8           1                0   \n",
       "1471        33         3         3          4           1                0   \n",
       "1472        17         3         3          1           1                1   \n",
       "\n",
       "      husb_occupation  life_std  bad_media  contra_type  \n",
       "1468                2         4          0            3  \n",
       "1469                1         4          0            3  \n",
       "1470                1         4          0            3  \n",
       "1471                2         2          0            3  \n",
       "1472                2         4          0            3  "
      ]
     },
     "execution_count": 12,
     "metadata": {},
     "output_type": "execute_result"
    }
   ],
   "source": [
    "df.tail()"
   ]
  },
  {
   "cell_type": "code",
   "execution_count": 13,
   "metadata": {
    "collapsed": false
   },
   "outputs": [
    {
     "name": "stdout",
     "output_type": "stream",
     "text": [
      "<class 'pandas.core.frame.DataFrame'>\n",
      "RangeIndex: 1473 entries, 0 to 1472\n",
      "Data columns (total 10 columns):\n",
      "wife_age           1473 non-null int64\n",
      "wife_edu           1473 non-null int64\n",
      "husb_edu           1473 non-null int64\n",
      "num_child          1473 non-null int64\n",
      "wife_islam         1473 non-null int64\n",
      "wife_unemployed    1473 non-null int64\n",
      "husb_occupation    1473 non-null int64\n",
      "life_std           1473 non-null int64\n",
      "bad_media          1473 non-null int64\n",
      "contra_type        1473 non-null int64\n",
      "dtypes: int64(10)\n",
      "memory usage: 115.2 KB\n"
     ]
    }
   ],
   "source": [
    "df.info()"
   ]
  },
  {
   "cell_type": "code",
   "execution_count": 14,
   "metadata": {
    "collapsed": false
   },
   "outputs": [
    {
     "data": {
      "text/plain": [
       "[]"
      ]
     },
     "execution_count": 14,
     "metadata": {},
     "output_type": "execute_result"
    },
    {
     "data": {
      "image/png": "[encoded data removed]",
      "text/plain": [
       "<matplotlib.figure.Figure at 0xa972b6dcc0>"
      ]
     },
     "metadata": {},
     "output_type": "display_data"
    }
   ],
   "source": [
    "age_range = df.wife_age.max() - df.wife_age.min()\n",
    "\n",
    "df.wife_age.hist(bins=age_range,figsize=(7,5))\n",
    "plt.plot()"
   ]
  },
  {
   "cell_type": "code",
   "execution_count": 15,
   "metadata": {
    "collapsed": false
   },
   "outputs": [
    {
     "data": {
      "text/plain": [
       "<matplotlib.axes._subplots.AxesSubplot at 0xa974d818d0>"
      ]
     },
     "execution_count": 15,
     "metadata": {},
     "output_type": "execute_result"
    },
    {
     "data": {
      "image/png": "[encoded data removed]",
      "text/plain": [
       "<matplotlib.figure.Figure at 0xa972c816d8>"
      ]
     },
     "metadata": {},
     "output_type": "display_data"
    }
   ],
   "source": [
    "sb.violinplot(x='life_std',y='wife_age',data=df)"
   ]
  },
  {
   "cell_type": "markdown",
   "metadata": {},
   "source": [
    "#### Binning the # children and age to prep for one-hot encoding"
   ]
  },
  {
   "cell_type": "code",
   "execution_count": 16,
   "metadata": {
    "collapsed": true
   },
   "outputs": [],
   "source": [
    "df['num_children'] = pd.cut(df['num_child'],[-1,1,3,6,max(df['num_child'])],labels=['[0-1]','(1-3]','(3-6]','(6-{}]'.format(max(df['num_child']))])"
   ]
  },
  {
   "cell_type": "code",
   "execution_count": 17,
   "metadata": {
    "collapsed": false
   },
   "outputs": [
    {
     "data": {
      "text/plain": [
       "(1-3]     535\n",
       "(3-6]     424\n",
       "[0-1]     373\n",
       "(6-16]    141\n",
       "Name: num_children, dtype: int64"
      ]
     },
     "execution_count": 17,
     "metadata": {},
     "output_type": "execute_result"
    }
   ],
   "source": [
    "df['num_children'].value_counts()"
   ]
  },
  {
   "cell_type": "code",
   "execution_count": 18,
   "metadata": {
    "collapsed": true
   },
   "outputs": [],
   "source": [
    "df['wife_range'] = pd.cut(df['wife_age'].astype('int64'),bins=[0,24,30,37,43,max(df['wife_age'])],labels=['[18-24]','(24-29]','(29-37]','(37-43]','(43-{}]'.format(max(df['wife_age']))])"
   ]
  },
  {
   "cell_type": "code",
   "execution_count": 19,
   "metadata": {
    "collapsed": false
   },
   "outputs": [
    {
     "data": {
      "text/plain": [
       "(24-29]    394\n",
       "(29-37]    385\n",
       "[18-24]    276\n",
       "(37-43]    220\n",
       "(43-49]    198\n",
       "Name: wife_range, dtype: int64"
      ]
     },
     "execution_count": 19,
     "metadata": {},
     "output_type": "execute_result"
    }
   ],
   "source": [
    "df['wife_range'].value_counts()"
   ]
  },
  {
   "cell_type": "code",
   "execution_count": 20,
   "metadata": {
    "collapsed": false
   },
   "outputs": [
    {
     "data": {
      "text/html": [
       "<div>\n",
       "<table border=\"1\" class=\"dataframe\">\n",
       "  <thead>\n",
       "    <tr style=\"text-align: right;\">\n",
       "      <th>num_children</th>\n",
       "      <th>[0-1]</th>\n",
       "      <th>(1-3]</th>\n",
       "      <th>(3-6]</th>\n",
       "      <th>(6-16]</th>\n",
       "    </tr>\n",
       "    <tr>\n",
       "      <th>wife_range</th>\n",
       "      <th></th>\n",
       "      <th></th>\n",
       "      <th></th>\n",
       "      <th></th>\n",
       "    </tr>\n",
       "  </thead>\n",
       "  <tbody>\n",
       "    <tr>\n",
       "      <th>[18-24]</th>\n",
       "      <td>0.601449</td>\n",
       "      <td>0.355072</td>\n",
       "      <td>0.043478</td>\n",
       "      <td>0.000000</td>\n",
       "    </tr>\n",
       "    <tr>\n",
       "      <th>(24-29]</th>\n",
       "      <td>0.314721</td>\n",
       "      <td>0.467005</td>\n",
       "      <td>0.200508</td>\n",
       "      <td>0.017766</td>\n",
       "    </tr>\n",
       "    <tr>\n",
       "      <th>(29-37]</th>\n",
       "      <td>0.088312</td>\n",
       "      <td>0.394805</td>\n",
       "      <td>0.428571</td>\n",
       "      <td>0.088312</td>\n",
       "    </tr>\n",
       "    <tr>\n",
       "      <th>(37-43]</th>\n",
       "      <td>0.100000</td>\n",
       "      <td>0.286364</td>\n",
       "      <td>0.422727</td>\n",
       "      <td>0.190909</td>\n",
       "    </tr>\n",
       "    <tr>\n",
       "      <th>(43-49]</th>\n",
       "      <td>0.136364</td>\n",
       "      <td>0.191919</td>\n",
       "      <td>0.378788</td>\n",
       "      <td>0.292929</td>\n",
       "    </tr>\n",
       "  </tbody>\n",
       "</table>\n",
       "</div>"
      ],
      "text/plain": [
       "num_children     [0-1]     (1-3]     (3-6]    (6-16]\n",
       "wife_range                                          \n",
       "[18-24]       0.601449  0.355072  0.043478  0.000000\n",
       "(24-29]       0.314721  0.467005  0.200508  0.017766\n",
       "(29-37]       0.088312  0.394805  0.428571  0.088312\n",
       "(37-43]       0.100000  0.286364  0.422727  0.190909\n",
       "(43-49]       0.136364  0.191919  0.378788  0.292929"
      ]
     },
     "execution_count": 20,
     "metadata": {},
     "output_type": "execute_result"
    }
   ],
   "source": [
    "df_2 = pd.crosstab(df['wife_range'],df['num_children'],normalize='index')\n",
    "df_2"
   ]
  },
  {
   "cell_type": "code",
   "execution_count": 21,
   "metadata": {
    "collapsed": false
   },
   "outputs": [
    {
     "data": {
      "text/plain": [
       "<matplotlib.axes._subplots.AxesSubplot at 0xa974e1b0b8>"
      ]
     },
     "execution_count": 21,
     "metadata": {},
     "output_type": "execute_result"
    },
    {
     "data": {
      "image/png": "[encoded data removed]",
      "text/plain": [
       "<matplotlib.figure.Figure at 0xa972ca5ac8>"
      ]
     },
     "metadata": {},
     "output_type": "display_data"
    }
   ],
   "source": [
    "df_3 = pd.crosstab(df['num_children'],df['contra_type'],normalize='index')\n",
    "df_3.plot(marker='d',markerfacecolor='none',linestyle='-.')"
   ]
  },
  {
   "cell_type": "code",
   "execution_count": 22,
   "metadata": {
    "collapsed": false
   },
   "outputs": [
    {
     "data": {
      "text/plain": [
       "<matplotlib.axes._subplots.AxesSubplot at 0xa974f94a20>"
      ]
     },
     "execution_count": 22,
     "metadata": {},
     "output_type": "execute_result"
    },
    {
     "data": {
      "image/png": "[encoded data removed]",
      "text/plain": [
       "<matplotlib.figure.Figure at 0xa974f88e10>"
      ]
     },
     "metadata": {},
     "output_type": "display_data"
    }
   ],
   "source": [
    "df_4 = pd.crosstab(df['wife_range'],df['contra_type'],normalize='index')\n",
    "df_4.plot(marker='d',markerfacecolor='none',linestyle='-.',figsize=(9,7))"
   ]
  },
  {
   "cell_type": "markdown",
   "metadata": {},
   "source": [
    "- Normalized the frequency counts due to the discrepancy in population. When looking at raw totals, it appears as though contraceptive type 1 decreases with age, but the proportion of women using no contraception actually appears to increase after around age 37."
   ]
  },
  {
   "cell_type": "code",
   "execution_count": 23,
   "metadata": {
    "collapsed": true
   },
   "outputs": [],
   "source": [
    "df.drop(['wife_age','num_child'],axis=1,inplace=True)"
   ]
  },
  {
   "cell_type": "code",
   "execution_count": 24,
   "metadata": {
    "collapsed": true
   },
   "outputs": [],
   "source": [
    "for c in ['wife_edu','husb_edu','husb_occupation','life_std','contra_type']:\n",
    "    df[c] = df[c].astype('category')"
   ]
  },
  {
   "cell_type": "code",
   "execution_count": 25,
   "metadata": {
    "collapsed": false
   },
   "outputs": [
    {
     "data": {
      "text/html": [
       "<div>\n",
       "<table border=\"1\" class=\"dataframe\">\n",
       "  <thead>\n",
       "    <tr style=\"text-align: right;\">\n",
       "      <th></th>\n",
       "      <th>wife_islam</th>\n",
       "      <th>wife_unemployed</th>\n",
       "      <th>bad_media</th>\n",
       "      <th>wife_edu_1</th>\n",
       "      <th>wife_edu_2</th>\n",
       "      <th>wife_edu_3</th>\n",
       "      <th>wife_edu_4</th>\n",
       "      <th>husb_edu_1</th>\n",
       "      <th>husb_edu_2</th>\n",
       "      <th>husb_edu_3</th>\n",
       "      <th>...</th>\n",
       "      <th>contra_type_3</th>\n",
       "      <th>num_children_[0-1]</th>\n",
       "      <th>num_children_(1-3]</th>\n",
       "      <th>num_children_(3-6]</th>\n",
       "      <th>num_children_(6-16]</th>\n",
       "      <th>wife_range_[18-24]</th>\n",
       "      <th>wife_range_(24-29]</th>\n",
       "      <th>wife_range_(29-37]</th>\n",
       "      <th>wife_range_(37-43]</th>\n",
       "      <th>wife_range_(43-49]</th>\n",
       "    </tr>\n",
       "  </thead>\n",
       "  <tbody>\n",
       "    <tr>\n",
       "      <th>0</th>\n",
       "      <td>1</td>\n",
       "      <td>1</td>\n",
       "      <td>0</td>\n",
       "      <td>0</td>\n",
       "      <td>1</td>\n",
       "      <td>0</td>\n",
       "      <td>0</td>\n",
       "      <td>0</td>\n",
       "      <td>0</td>\n",
       "      <td>1</td>\n",
       "      <td>...</td>\n",
       "      <td>0</td>\n",
       "      <td>0</td>\n",
       "      <td>1</td>\n",
       "      <td>0</td>\n",
       "      <td>0</td>\n",
       "      <td>1</td>\n",
       "      <td>0</td>\n",
       "      <td>0</td>\n",
       "      <td>0</td>\n",
       "      <td>0</td>\n",
       "    </tr>\n",
       "    <tr>\n",
       "      <th>1</th>\n",
       "      <td>1</td>\n",
       "      <td>1</td>\n",
       "      <td>0</td>\n",
       "      <td>1</td>\n",
       "      <td>0</td>\n",
       "      <td>0</td>\n",
       "      <td>0</td>\n",
       "      <td>0</td>\n",
       "      <td>0</td>\n",
       "      <td>1</td>\n",
       "      <td>...</td>\n",
       "      <td>0</td>\n",
       "      <td>0</td>\n",
       "      <td>0</td>\n",
       "      <td>0</td>\n",
       "      <td>1</td>\n",
       "      <td>0</td>\n",
       "      <td>0</td>\n",
       "      <td>0</td>\n",
       "      <td>0</td>\n",
       "      <td>1</td>\n",
       "    </tr>\n",
       "    <tr>\n",
       "      <th>2</th>\n",
       "      <td>1</td>\n",
       "      <td>1</td>\n",
       "      <td>0</td>\n",
       "      <td>0</td>\n",
       "      <td>1</td>\n",
       "      <td>0</td>\n",
       "      <td>0</td>\n",
       "      <td>0</td>\n",
       "      <td>0</td>\n",
       "      <td>1</td>\n",
       "      <td>...</td>\n",
       "      <td>0</td>\n",
       "      <td>0</td>\n",
       "      <td>0</td>\n",
       "      <td>0</td>\n",
       "      <td>1</td>\n",
       "      <td>0</td>\n",
       "      <td>0</td>\n",
       "      <td>0</td>\n",
       "      <td>1</td>\n",
       "      <td>0</td>\n",
       "    </tr>\n",
       "    <tr>\n",
       "      <th>3</th>\n",
       "      <td>1</td>\n",
       "      <td>1</td>\n",
       "      <td>0</td>\n",
       "      <td>0</td>\n",
       "      <td>0</td>\n",
       "      <td>1</td>\n",
       "      <td>0</td>\n",
       "      <td>0</td>\n",
       "      <td>1</td>\n",
       "      <td>0</td>\n",
       "      <td>...</td>\n",
       "      <td>0</td>\n",
       "      <td>0</td>\n",
       "      <td>0</td>\n",
       "      <td>0</td>\n",
       "      <td>1</td>\n",
       "      <td>0</td>\n",
       "      <td>0</td>\n",
       "      <td>0</td>\n",
       "      <td>1</td>\n",
       "      <td>0</td>\n",
       "    </tr>\n",
       "    <tr>\n",
       "      <th>4</th>\n",
       "      <td>1</td>\n",
       "      <td>1</td>\n",
       "      <td>0</td>\n",
       "      <td>0</td>\n",
       "      <td>0</td>\n",
       "      <td>1</td>\n",
       "      <td>0</td>\n",
       "      <td>0</td>\n",
       "      <td>0</td>\n",
       "      <td>1</td>\n",
       "      <td>...</td>\n",
       "      <td>0</td>\n",
       "      <td>0</td>\n",
       "      <td>0</td>\n",
       "      <td>0</td>\n",
       "      <td>1</td>\n",
       "      <td>0</td>\n",
       "      <td>0</td>\n",
       "      <td>1</td>\n",
       "      <td>0</td>\n",
       "      <td>0</td>\n",
       "    </tr>\n",
       "  </tbody>\n",
       "</table>\n",
       "<p>5 rows × 31 columns</p>\n",
       "</div>"
      ],
      "text/plain": [
       "   wife_islam  wife_unemployed  bad_media  wife_edu_1  wife_edu_2  wife_edu_3  \\\n",
       "0           1                1          0           0           1           0   \n",
       "1           1                1          0           1           0           0   \n",
       "2           1                1          0           0           1           0   \n",
       "3           1                1          0           0           0           1   \n",
       "4           1                1          0           0           0           1   \n",
       "\n",
       "   wife_edu_4  husb_edu_1  husb_edu_2  husb_edu_3         ...          \\\n",
       "0           0           0           0           1         ...           \n",
       "1           0           0           0           1         ...           \n",
       "2           0           0           0           1         ...           \n",
       "3           0           0           1           0         ...           \n",
       "4           0           0           0           1         ...           \n",
       "\n",
       "   contra_type_3  num_children_[0-1]  num_children_(1-3]  num_children_(3-6]  \\\n",
       "0              0                   0                   1                   0   \n",
       "1              0                   0                   0                   0   \n",
       "2              0                   0                   0                   0   \n",
       "3              0                   0                   0                   0   \n",
       "4              0                   0                   0                   0   \n",
       "\n",
       "   num_children_(6-16]  wife_range_[18-24]  wife_range_(24-29]  \\\n",
       "0                    0                   1                   0   \n",
       "1                    1                   0                   0   \n",
       "2                    1                   0                   0   \n",
       "3                    1                   0                   0   \n",
       "4                    1                   0                   0   \n",
       "\n",
       "   wife_range_(29-37]  wife_range_(37-43]  wife_range_(43-49]  \n",
       "0                   0                   0                   0  \n",
       "1                   0                   0                   1  \n",
       "2                   0                   1                   0  \n",
       "3                   0                   1                   0  \n",
       "4                   1                   0                   0  \n",
       "\n",
       "[5 rows x 31 columns]"
      ]
     },
     "execution_count": 25,
     "metadata": {},
     "output_type": "execute_result"
    }
   ],
   "source": [
    "df_dummies = pd.get_dummies(df)\n",
    "df_dummies.head()"
   ]
  },
  {
   "cell_type": "code",
   "execution_count": 26,
   "metadata": {
    "collapsed": false
   },
   "outputs": [],
   "source": [
    "def sigmoid(array):\n",
    "    sig = 1 / (1 + np.exp(-array))\n",
    "    return sig"
   ]
  },
  {
   "cell_type": "code",
   "execution_count": 27,
   "metadata": {
    "collapsed": true
   },
   "outputs": [],
   "source": [
    "def reorder_df(df,list_of_targets=None):\n",
    "    #quick function to change column order in dataframe\n",
    "    \n",
    "    if list_of_targets is None:\n",
    "        list_of_targets = ['contra_type_1','contra_type_2','contra_type_3']\n",
    "\n",
    "    columns = list(df.columns)\n",
    "    \n",
    "    for i in list_of_targets:\n",
    "        columns.pop(columns.index(i))\n",
    "        columns.append(i)\n",
    "\n",
    "    df = df.loc[:,columns]\n",
    "    return df"
   ]
  },
  {
   "cell_type": "code",
   "execution_count": 28,
   "metadata": {
    "collapsed": true
   },
   "outputs": [],
   "source": [
    "df_dummies = reorder_df(df_dummies)"
   ]
  },
  {
   "cell_type": "code",
   "execution_count": 29,
   "metadata": {
    "collapsed": false
   },
   "outputs": [
    {
     "name": "stdout",
     "output_type": "stream",
     "text": [
      "<class 'pandas.core.frame.DataFrame'>\n",
      "RangeIndex: 1473 entries, 0 to 1472\n",
      "Data columns (total 31 columns):\n",
      "wife_islam             1473 non-null int64\n",
      "wife_unemployed        1473 non-null int64\n",
      "bad_media              1473 non-null int64\n",
      "wife_edu_1             1473 non-null uint8\n",
      "wife_edu_2             1473 non-null uint8\n",
      "wife_edu_3             1473 non-null uint8\n",
      "wife_edu_4             1473 non-null uint8\n",
      "husb_edu_1             1473 non-null uint8\n",
      "husb_edu_2             1473 non-null uint8\n",
      "husb_edu_3             1473 non-null uint8\n",
      "husb_edu_4             1473 non-null uint8\n",
      "husb_occupation_1      1473 non-null uint8\n",
      "husb_occupation_2      1473 non-null uint8\n",
      "husb_occupation_3      1473 non-null uint8\n",
      "husb_occupation_4      1473 non-null uint8\n",
      "life_std_1             1473 non-null uint8\n",
      "life_std_2             1473 non-null uint8\n",
      "life_std_3             1473 non-null uint8\n",
      "life_std_4             1473 non-null uint8\n",
      "num_children_[0-1]     1473 non-null uint8\n",
      "num_children_(1-3]     1473 non-null uint8\n",
      "num_children_(3-6]     1473 non-null uint8\n",
      "num_children_(6-16]    1473 non-null uint8\n",
      "wife_range_[18-24]     1473 non-null uint8\n",
      "wife_range_(24-29]     1473 non-null uint8\n",
      "wife_range_(29-37]     1473 non-null uint8\n",
      "wife_range_(37-43]     1473 non-null uint8\n",
      "wife_range_(43-49]     1473 non-null uint8\n",
      "contra_type_1          1473 non-null uint8\n",
      "contra_type_2          1473 non-null uint8\n",
      "contra_type_3          1473 non-null uint8\n",
      "dtypes: int64(3), uint8(28)\n",
      "memory usage: 74.9 KB\n"
     ]
    }
   ],
   "source": [
    "df_dummies.info()"
   ]
  },
  {
   "cell_type": "code",
   "execution_count": 30,
   "metadata": {
    "collapsed": true
   },
   "outputs": [],
   "source": [
    "df_features = df_dummies.iloc[:,:-3]\n",
    "df_targets = df_dummies.iloc[:,-3:]"
   ]
  },
  {
   "cell_type": "code",
   "execution_count": 31,
   "metadata": {
    "collapsed": true
   },
   "outputs": [],
   "source": [
    "features_matrix = df_features.as_matrix()\n",
    "targets_matrix = df_targets.as_matrix()"
   ]
  },
  {
   "cell_type": "code",
   "execution_count": 32,
   "metadata": {
    "collapsed": true
   },
   "outputs": [],
   "source": [
    "weights = np.zeros(features_matrix.shape[1])"
   ]
  },
  {
   "cell_type": "code",
   "execution_count": 33,
   "metadata": {
    "collapsed": true
   },
   "outputs": [],
   "source": [
    "predictions = sigmoid(np.dot(features_matrix,weights))"
   ]
  },
  {
   "cell_type": "code",
   "execution_count": 34,
   "metadata": {
    "collapsed": false
   },
   "outputs": [
    {
     "data": {
      "text/plain": [
       "0.572980312287848"
      ]
     },
     "execution_count": 34,
     "metadata": {},
     "output_type": "execute_result"
    }
   ],
   "source": [
    "sum(np.round(predictions)==targets_matrix[:,0])/len(targets_matrix[:,0])"
   ]
  },
  {
   "cell_type": "code",
   "execution_count": 35,
   "metadata": {
    "collapsed": false
   },
   "outputs": [
    {
     "data": {
      "text/plain": [
       "array([0.5, 0.5, 0.5, ..., 0.5, 0.5, 0.5])"
      ]
     },
     "execution_count": 35,
     "metadata": {},
     "output_type": "execute_result"
    }
   ],
   "source": [
    "predictions"
   ]
  },
  {
   "cell_type": "code",
   "execution_count": 36,
   "metadata": {
    "collapsed": false
   },
   "outputs": [
    {
     "data": {
      "text/plain": [
       "array([ 72.5,  93. , -19.5, -27. ,  -9. ,  30. , 113.5,  -9. , -10. ,\n",
       "        15. , 111.5,  60. ,  12.5,  34.5,   0.5, -15.5,  -2.5,  31.5,\n",
       "        94. , -51.5,  83.5,  76. ,  -0.5,  12. ,  46. ,  67.5,   9. ,\n",
       "       -27. ])"
      ]
     },
     "execution_count": 36,
     "metadata": {},
     "output_type": "execute_result"
    }
   ],
   "source": [
    "weights_gradient = np.dot(features_matrix.T,(predictions-targets_matrix[:,0]))\n",
    "weights_gradient"
   ]
  },
  {
   "cell_type": "code",
   "execution_count": 37,
   "metadata": {
    "collapsed": false
   },
   "outputs": [],
   "source": [
    "#weights_gradient = weights_gradient / features_matrix.shape[0]\n",
    "#weights_gradient"
   ]
  },
  {
   "cell_type": "code",
   "execution_count": 38,
   "metadata": {
    "collapsed": false
   },
   "outputs": [
    {
     "data": {
      "text/plain": [
       "array([ -7.25,  -9.3 ,   1.95,   2.7 ,   0.9 ,  -3.  , -11.35,   0.9 ,\n",
       "         1.  ,  -1.5 , -11.15,  -6.  ,  -1.25,  -3.45,  -0.05,   1.55,\n",
       "         0.25,  -3.15,  -9.4 ,   5.15,  -8.35,  -7.6 ,   0.05,  -1.2 ,\n",
       "        -4.6 ,  -6.75,  -0.9 ,   2.7 ])"
      ]
     },
     "execution_count": 38,
     "metadata": {},
     "output_type": "execute_result"
    }
   ],
   "source": [
    "weights = weights - (weights_gradient*0.1)\n",
    "weights"
   ]
  },
  {
   "cell_type": "code",
   "execution_count": 39,
   "metadata": {
    "collapsed": true
   },
   "outputs": [],
   "source": [
    "def log_loss(predictions,actual,eps=1e-15):\n",
    "    '''take an array of prediction probabilities (clipped to avoid undefined values) and measures accuracy while\n",
    "    also factoring for confidence'''\n",
    "    #assert (max(predictions)<=1 and min(predictions)>=0), 'Please make sure to use predict_proba'\n",
    "    \n",
    "    preds_clipped = np.clip(predictions,eps,1-eps)\n",
    "    \n",
    "    loss = -1 * np.mean((actual * np.log(preds_clipped)) + ((1-actual) * np.log(1-preds_clipped)))\n",
    "    \n",
    "    return loss"
   ]
  },
  {
   "cell_type": "code",
   "execution_count": 40,
   "metadata": {
    "collapsed": true
   },
   "outputs": [],
   "source": [
    "from sklearn.metrics import accuracy_score, roc_auc_score"
   ]
  },
  {
   "cell_type": "markdown",
   "metadata": {},
   "source": [
    "## Testing Gradient Descent ##\n",
    "### Target Variable: Contraceptive Type 1 (No Contraceptive)"
   ]
  },
  {
   "cell_type": "markdown",
   "metadata": {},
   "source": [
    "- Keep in mind, this is not a final prediction\n",
    "- No train/test split, just to peek at which factors have greatest influence on classification"
   ]
  },
  {
   "cell_type": "code",
   "execution_count": 41,
   "metadata": {
    "collapsed": false
   },
   "outputs": [
    {
     "name": "stdout",
     "output_type": "stream",
     "text": [
      "0.57298\n",
      "0.67957\n",
      "0.69179\n",
      "0.6945\n",
      "0.70129\n",
      "0.69925\n",
      "0.70536\n",
      "0.70333\n",
      "0.70265\n",
      "0.70265\n"
     ]
    }
   ],
   "source": [
    "weights = np.zeros(features_matrix.shape[1])\n",
    "targets = targets_matrix[:,0]\n",
    "\n",
    "row_list = []\n",
    "\n",
    "for i in range(1000):\n",
    "    prediction_proba = sigmoid(np.dot(features_matrix,weights))\n",
    "    \n",
    "    weights_gradient = np.dot(features_matrix.T,(prediction_proba-targets)) / features_matrix.shape[0]\n",
    "    \n",
    "    weights = weights - (weights_gradient*0.1)\n",
    "    \n",
    "    predictions = np.round(prediction_proba)\n",
    "    \n",
    "    row_list.append([*weights,roc_auc_score(targets,prediction_proba),log_loss(prediction_proba,targets),accuracy_score(targets,predictions)])\n",
    "    \n",
    "    if i % 100 == 0:\n",
    "        print(round(sum(predictions==targets)/len(targets_matrix[:,0]),5))\n",
    "        \n",
    "    ##early stopping: if AUC does not improve/change more than 0.1% between 50 loops, then loop is broken\n",
    "        \n",
    "    if i > 50:\n",
    "        if abs((row_list[i][-3] - row_list[i-50][-3]) / row_list[i][-3]) < 0.0001:\n",
    "            break\n",
    "        \n",
    "gradient_df = pd.DataFrame(row_list)\n",
    "    \n",
    "    "
   ]
  },
  {
   "cell_type": "code",
   "execution_count": 42,
   "metadata": {
    "collapsed": true
   },
   "outputs": [],
   "source": [
    "columns_list = list(df_features.columns)\n",
    "columns_list.extend(('auc_score','log_loss','accuracy_score'))"
   ]
  },
  {
   "cell_type": "code",
   "execution_count": 43,
   "metadata": {
    "collapsed": true
   },
   "outputs": [],
   "source": [
    "top_auc_score = gradient_df.loc[:,28].idxmax(axis=1)"
   ]
  },
  {
   "cell_type": "code",
   "execution_count": 44,
   "metadata": {
    "collapsed": true
   },
   "outputs": [],
   "source": [
    "best_weights_for_loss= [(x,y) for x,y in zip(gradient_df.iloc[top_auc_score,].values,columns_list)]\n",
    "#best_weights_for_loss_sorted = best_weights_for_loss.sort(key = lambda x: x[0],reverse=True)"
   ]
  },
  {
   "cell_type": "code",
   "execution_count": 45,
   "metadata": {
    "collapsed": false
   },
   "outputs": [
    {
     "data": {
      "text/plain": [
       "[(0.20095338067552582, 'wife_islam'),\n",
       " (-0.20460235355056083, 'wife_unemployed'),\n",
       " (0.45590282577186114, 'bad_media'),\n",
       " (0.5521756819334689, 'wife_edu_1'),\n",
       " (0.33527960478373964, 'wife_edu_2'),\n",
       " (-0.08021798839129304, 'wife_edu_3'),\n",
       " (-0.7690092989531797, 'wife_edu_4'),\n",
       " (0.1902926203341141, 'husb_edu_1'),\n",
       " (-0.040629775648923123, 'husb_edu_2'),\n",
       " (-0.13226517537585014, 'husb_edu_3'),\n",
       " (0.020830330063394645, 'husb_edu_4'),\n",
       " (0.05363052552574351, 'husb_occupation_1'),\n",
       " (0.15256531273960744, 'husb_occupation_2'),\n",
       " (-0.05619444482630646, 'husb_occupation_3'),\n",
       " (-0.11177339406630846, 'husb_occupation_4'),\n",
       " (0.32422245187196846, 'life_std_1'),\n",
       " (0.08075618904648278, 'life_std_2'),\n",
       " (-0.0986519494796992, 'life_std_3'),\n",
       " (-0.26809869206601733, 'life_std_4'),\n",
       " (1.1909171898951885, 'num_children_[0-1]'),\n",
       " (-0.1750687691057002, 'num_children_(1-3]'),\n",
       " (-0.6611896033933952, 'num_children_(3-6]'),\n",
       " (-0.31643081802335604, 'num_children_(6-16]'),\n",
       " (-0.566197719876787, 'wife_range_[18-24]'),\n",
       " (-0.44377729394129933, 'wife_range_(24-29]'),\n",
       " (-0.22163981748874118, 'wife_range_(29-37]'),\n",
       " (0.36133816474397995, 'wife_range_(37-43]'),\n",
       " (0.908504665935583, 'wife_range_(43-49]'),\n",
       " (0.7532210911776008, 'auc_score'),\n",
       " (0.5772141765775973, 'log_loss'),\n",
       " (0.7019687712152071, 'accuracy_score')]"
      ]
     },
     "execution_count": 45,
     "metadata": {},
     "output_type": "execute_result"
    }
   ],
   "source": [
    "best_weights_for_loss"
   ]
  },
  {
   "cell_type": "code",
   "execution_count": 46,
   "metadata": {
    "collapsed": true
   },
   "outputs": [],
   "source": [
    "best_weights_for_loss_sorted = sorted(best_weights_for_loss[:-3],key= lambda x: x[0],reverse=True)"
   ]
  },
  {
   "cell_type": "markdown",
   "metadata": {},
   "source": [
    "### Sanity Checks###\n",
    "\n",
    "** Positive contributing factors to non-use of contraception: **"
   ]
  },
  {
   "cell_type": "code",
   "execution_count": 47,
   "metadata": {
    "collapsed": false
   },
   "outputs": [
    {
     "data": {
      "text/plain": [
       "[(1.1909171898951885, 'num_children_[0-1]'),\n",
       " (0.908504665935583, 'wife_range_(43-49]'),\n",
       " (0.5521756819334689, 'wife_edu_1'),\n",
       " (0.45590282577186114, 'bad_media'),\n",
       " (0.36133816474397995, 'wife_range_(37-43]')]"
      ]
     },
     "execution_count": 47,
     "metadata": {},
     "output_type": "execute_result"
    }
   ],
   "source": [
    "best_weights_for_loss_sorted[:5]"
   ]
  },
  {
   "cell_type": "markdown",
   "metadata": {},
   "source": [
    "** Negative contributing factors to non-use of contraception: **"
   ]
  },
  {
   "cell_type": "code",
   "execution_count": 48,
   "metadata": {
    "collapsed": false
   },
   "outputs": [
    {
     "data": {
      "text/plain": [
       "[(-0.31643081802335604, 'num_children_(6-16]'),\n",
       " (-0.44377729394129933, 'wife_range_(24-29]'),\n",
       " (-0.566197719876787, 'wife_range_[18-24]'),\n",
       " (-0.6611896033933952, 'num_children_(3-6]'),\n",
       " (-0.7690092989531797, 'wife_edu_4')]"
      ]
     },
     "execution_count": 48,
     "metadata": {},
     "output_type": "execute_result"
    }
   ],
   "source": [
    "best_weights_for_loss_sorted[-5:]"
   ]
  },
  {
   "cell_type": "code",
   "execution_count": 49,
   "metadata": {
    "collapsed": true
   },
   "outputs": [],
   "source": [
    "from sklearn.naive_bayes import BernoulliNB"
   ]
  },
  {
   "cell_type": "code",
   "execution_count": 50,
   "metadata": {
    "collapsed": true
   },
   "outputs": [],
   "source": [
    "bern = BernoulliNB(alpha=0.1)"
   ]
  },
  {
   "cell_type": "code",
   "execution_count": 51,
   "metadata": {
    "collapsed": false
   },
   "outputs": [
    {
     "data": {
      "text/plain": [
       "BernoulliNB(alpha=0.1, binarize=0.0, class_prior=None, fit_prior=True)"
      ]
     },
     "execution_count": 51,
     "metadata": {},
     "output_type": "execute_result"
    }
   ],
   "source": [
    "bern.fit(features_matrix,targets_matrix[:,0])"
   ]
  },
  {
   "cell_type": "code",
   "execution_count": 52,
   "metadata": {
    "collapsed": false
   },
   "outputs": [
    {
     "data": {
      "text/plain": [
       "0.6524100475220638"
      ]
     },
     "execution_count": 52,
     "metadata": {},
     "output_type": "execute_result"
    }
   ],
   "source": [
    "sum(bern.predict(features_matrix) == targets_matrix[:,0]) / len(targets_matrix[:,0])"
   ]
  },
  {
   "cell_type": "markdown",
   "metadata": {},
   "source": [
    "- Is my homemade function/ for-loop outperforming out of the box Bernoulli NB??"
   ]
  },
  {
   "cell_type": "markdown",
   "metadata": {
    "collapsed": true
   },
   "source": [
    "### Optimize with regularization? ##\n",
    "\n",
    "- Going to try two methods and see their effect on predictions:\n",
    "    1. L-1 (RIDGE): Add weights' Sum of Squares multiplied by a lambda constant to avoid over-fitting\n",
    "    2. L-2 (LASSO): Add weights' Sum of Absolute Values multiplied by lambda constant, which reduces less important factors to zero (feature selection)"
   ]
  },
  {
   "cell_type": "markdown",
   "metadata": {},
   "source": [
    "### Ridge Regression"
   ]
  },
  {
   "cell_type": "code",
   "execution_count": 53,
   "metadata": {
    "collapsed": false
   },
   "outputs": [
    {
     "name": "stdout",
     "output_type": "stream",
     "text": [
      "0.57298\n",
      "0.67957\n",
      "0.69111\n",
      "0.69586\n",
      "0.69857\n",
      "0.70061\n"
     ]
    }
   ],
   "source": [
    "weights = np.zeros(features_matrix.shape[1])\n",
    "targets = targets_matrix[:,0]\n",
    "\n",
    "epsilon = 1\n",
    "\n",
    "row_list = []\n",
    "\n",
    "for i in range(1000):\n",
    "    prediction_proba = sigmoid(np.dot(features_matrix,weights))\n",
    "    \n",
    "    weights_gradient = (np.dot(features_matrix.T,(prediction_proba-targets)) / features_matrix.shape[0]) + ((epsilon/(2*len(targets))) * np.sum(np.square(weights)))\n",
    "    \n",
    "    weights = weights - (weights_gradient*0.1) \n",
    "    \n",
    "    #print(weights)\n",
    "    \n",
    "    predictions = np.round(prediction_proba)\n",
    "    \n",
    "    row_list.append([*weights,roc_auc_score(targets,prediction_proba),log_loss(prediction_proba,targets),accuracy_score(targets,predictions)])\n",
    "    \n",
    "    if i % 100 == 0:\n",
    "        print(round(sum(predictions==targets)/len(targets_matrix[:,0]),5))\n",
    "        \n",
    "    ##early stopping: if AUC does not improve/change more than 0.1% between 50 loops, then loop is broken\n",
    "        \n",
    "    if i > 50:\n",
    "        if abs((row_list[i][-3] - row_list[i-50][-3]) / row_list[i][-3]) < 0.001:\n",
    "            break\n",
    "        \n",
    "gradient_df_ridge = pd.DataFrame(row_list)"
   ]
  },
  {
   "cell_type": "code",
   "execution_count": 54,
   "metadata": {
    "collapsed": true
   },
   "outputs": [],
   "source": [
    "top_auc_score_ridge = gradient_df_ridge.loc[:,28].idxmax(axis=1)"
   ]
  },
  {
   "cell_type": "code",
   "execution_count": 55,
   "metadata": {
    "collapsed": false
   },
   "outputs": [
    {
     "data": {
      "text/plain": [
       "495"
      ]
     },
     "execution_count": 55,
     "metadata": {},
     "output_type": "execute_result"
    }
   ],
   "source": [
    "top_auc_score_ridge"
   ]
  },
  {
   "cell_type": "code",
   "execution_count": 56,
   "metadata": {
    "collapsed": true
   },
   "outputs": [],
   "source": [
    "best_weights_for_loss_ridge= [(x,y) for x,y in zip(gradient_df_ridge.iloc[top_auc_score_ridge,].values,columns_list)]\n",
    "#best_weights_for_loss_ridge_sorted = best_weights_for_loss_ridge.sort(key = lambda x: x[0],reverse=True)"
   ]
  },
  {
   "cell_type": "code",
   "execution_count": 57,
   "metadata": {
    "collapsed": true
   },
   "outputs": [],
   "source": [
    "best_weights_for_loss_ridge_sorted = sorted(best_weights_for_loss_ridge[:-3],key= lambda x: x[0],reverse=True)"
   ]
  },
  {
   "cell_type": "code",
   "execution_count": 58,
   "metadata": {
    "collapsed": false
   },
   "outputs": [
    {
     "data": {
      "text/plain": [
       "[(1.1909171898951885, 'num_children_[0-1]'),\n",
       " (0.908504665935583, 'wife_range_(43-49]'),\n",
       " (0.5521756819334689, 'wife_edu_1'),\n",
       " (0.45590282577186114, 'bad_media'),\n",
       " (0.36133816474397995, 'wife_range_(37-43]')]"
      ]
     },
     "execution_count": 58,
     "metadata": {},
     "output_type": "execute_result"
    }
   ],
   "source": [
    "best_weights_for_loss_sorted[:5]"
   ]
  },
  {
   "cell_type": "code",
   "execution_count": 59,
   "metadata": {
    "collapsed": false
   },
   "outputs": [
    {
     "data": {
      "text/plain": [
       "[(0.9542413330520391, 'num_children_[0-1]'),\n",
       " (0.6886122083029217, 'wife_range_(43-49]'),\n",
       " (0.4415674795836862, 'wife_edu_1'),\n",
       " (0.3484172181977651, 'bad_media'),\n",
       " (0.2698805807121121, 'wife_edu_2')]"
      ]
     },
     "execution_count": 59,
     "metadata": {},
     "output_type": "execute_result"
    }
   ],
   "source": [
    "best_weights_for_loss_ridge_sorted[:5]"
   ]
  },
  {
   "cell_type": "code",
   "execution_count": 60,
   "metadata": {
    "collapsed": false
   },
   "outputs": [
    {
     "name": "stdout",
     "output_type": "stream",
     "text": [
      "1.1909 0.9542 num_children_[0-1]\n",
      "0.9085 0.6886 wife_range_(43-49]\n",
      "0.5522 0.4416 wife_edu_1\n",
      "0.4559 0.3484 bad_media\n",
      "0.3613 0.2699 wife_range_(37-43]\n",
      "0.3353 0.2446 wife_edu_2\n",
      "0.3242 0.2324 life_std_1\n",
      "0.201 0.1946 wife_islam\n",
      "0.1903 0.1301 husb_edu_1\n",
      "0.1526 0.1253 husb_occupation_2\n",
      "0.0808 0.0764 life_std_2\n",
      "0.0536 0.0222 husb_occupation_1\n",
      "0.0208 0.012 husb_edu_4\n",
      "-0.0406 -0.0339 husb_edu_2\n",
      "-0.0562 -0.0659 husb_occupation_3\n",
      "-0.0802 -0.0693 wife_edu_3\n",
      "-0.0987 -0.0745 life_std_3\n",
      "-0.1118 -0.0896 husb_occupation_4\n",
      "-0.1323 -0.1162 husb_edu_3\n",
      "-0.1751 -0.1413 num_children_(1-3]\n",
      "-0.2046 -0.1592 wife_unemployed\n",
      "-0.2216 -0.2293 wife_range_(29-37]\n",
      "-0.2681 -0.2396 life_std_4\n",
      "-0.3164 -0.2563 num_children_(6-16]\n",
      "-0.4438 -0.3406 wife_range_(24-29]\n",
      "-0.5662 -0.3493 wife_range_[18-24]\n",
      "-0.6612 -0.5712 num_children_(3-6]\n",
      "-0.769 -0.6348 wife_edu_4\n"
     ]
    }
   ],
   "source": [
    "for l, r in zip(best_weights_for_loss_sorted,best_weights_for_loss_ridge_sorted):\n",
    "    print(round(l[0],4),round(r[0],4),l[1])"
   ]
  },
  {
   "cell_type": "markdown",
   "metadata": {},
   "source": [
    "- Ridge, at least with an epsilon of 50, performs slightly better"
   ]
  },
  {
   "cell_type": "code",
   "execution_count": 61,
   "metadata": {
    "collapsed": true
   },
   "outputs": [],
   "source": [
    "l1 = [n for n, v in best_weights_for_loss]\n",
    "l2 = [n for n, v in best_weights_for_loss_ridge]"
   ]
  },
  {
   "cell_type": "code",
   "execution_count": 62,
   "metadata": {
    "collapsed": false
   },
   "outputs": [
    {
     "data": {
      "image/png": "[encoded data removed]",
      "text/plain": [
       "<matplotlib.figure.Figure at 0xa975349f28>"
      ]
     },
     "metadata": {},
     "output_type": "display_data"
    }
   ],
   "source": [
    "plt.figure(figsize=(8,6))\n",
    "\n",
    "plt.plot(l1[:-3],marker='o',linestyle='none',color='orange',label='Log Reg Weights')\n",
    "plt.plot(l2[:-3],marker='o',linestyle='none',color='black',label='Log Reg Weights - Ridge Regularized')\n",
    "plt.legend(loc=0)\n",
    "plt.show()\n",
    "#plt.plot(l1[3:],l2[3:])"
   ]
  },
  {
   "cell_type": "markdown",
   "metadata": {},
   "source": [
    "### LASSO Regression"
   ]
  },
  {
   "cell_type": "code",
   "execution_count": 63,
   "metadata": {
    "collapsed": false
   },
   "outputs": [
    {
     "name": "stdout",
     "output_type": "stream",
     "text": [
      "0.57298\n",
      "0.67889\n",
      "0.68703\n",
      "0.69111\n",
      "0.69586\n",
      "0.69993\n",
      "0.70401\n",
      "0.70333\n",
      "0.70333\n",
      "0.70468\n"
     ]
    }
   ],
   "source": [
    "weights = np.zeros(features_matrix.shape[1])\n",
    "targets = targets_matrix[:,0]\n",
    "\n",
    "alpha = .9\n",
    "\n",
    "row_list = []\n",
    "\n",
    "for i in range(1000):\n",
    "    prediction_proba = sigmoid(np.dot(features_matrix,weights))\n",
    "    \n",
    "    weights_gradient = (np.dot(features_matrix.T,(prediction_proba-targets)) / features_matrix.shape[0]) + np.sum((alpha/(2*len(targets))) * (np.abs(weights)))\n",
    "    \n",
    "    weights = weights - (weights_gradient*0.1) \n",
    "    \n",
    "    #print(weights)\n",
    "    \n",
    "    predictions = np.round(prediction_proba)\n",
    "    \n",
    "    row_list.append([*weights,roc_auc_score(targets,prediction_proba),log_loss(prediction_proba,targets),accuracy_score(targets,predictions)])\n",
    "    \n",
    "    if i % 100 == 0:\n",
    "        print(round(sum(predictions==targets)/len(targets_matrix[:,0]),5))\n",
    "        \n",
    "    ##early stopping: if AUC does not improve/change more than 0.1% between 50 loops, then loop is broken\n",
    "        \n",
    "    if i > 50:\n",
    "        if abs((row_list[i][-2] - row_list[i-50][-2]) / row_list[i][-3]) < 0.00001:\n",
    "            break\n",
    "        \n",
    "gradient_df_lasso = pd.DataFrame(row_list)"
   ]
  },
  {
   "cell_type": "code",
   "execution_count": 64,
   "metadata": {
    "collapsed": false
   },
   "outputs": [
    {
     "data": {
      "text/plain": [
       "988"
      ]
     },
     "execution_count": 64,
     "metadata": {},
     "output_type": "execute_result"
    }
   ],
   "source": [
    "top_auc_score_lasso = gradient_df_lasso.loc[:,28].idxmax(axis=1)\n",
    "top_auc_score_lasso"
   ]
  },
  {
   "cell_type": "code",
   "execution_count": 65,
   "metadata": {
    "collapsed": true
   },
   "outputs": [],
   "source": [
    "best_weights_for_loss_lasso= [(x,y) for x,y in zip(gradient_df_lasso.iloc[top_auc_score_lasso,].values[:-3],columns_list[:-3])]"
   ]
  },
  {
   "cell_type": "code",
   "execution_count": 66,
   "metadata": {
    "collapsed": false
   },
   "outputs": [
    {
     "data": {
      "text/plain": [
       "[(0.3671617830440216, 'wife_islam'),\n",
       " (-0.12116544781124013, 'wife_unemployed'),\n",
       " (0.39261960368992727, 'bad_media'),\n",
       " (0.4908500108084741, 'wife_edu_1'),\n",
       " (0.2904169081543217, 'wife_edu_2')]"
      ]
     },
     "execution_count": 66,
     "metadata": {},
     "output_type": "execute_result"
    }
   ],
   "source": [
    "best_weights_for_loss_lasso[:5]"
   ]
  },
  {
   "cell_type": "code",
   "execution_count": 67,
   "metadata": {
    "collapsed": true
   },
   "outputs": [],
   "source": [
    "l1 = [n for n, v in best_weights_for_loss]\n",
    "l2 = [n for n, v in best_weights_for_loss_lasso]"
   ]
  },
  {
   "cell_type": "code",
   "execution_count": 68,
   "metadata": {
    "collapsed": false
   },
   "outputs": [
    {
     "data": {
      "image/png": "[encoded data removed]",
      "text/plain": [
       "<matplotlib.figure.Figure at 0xa9752a3da0>"
      ]
     },
     "metadata": {},
     "output_type": "display_data"
    }
   ],
   "source": [
    "plt.figure(figsize=(8,6))\n",
    "\n",
    "plt.plot(l1[:-3],marker='o',linestyle='none',color='orange',label='Log Reg Weights')\n",
    "plt.plot(l2[:-3],marker='o',linestyle='none',color='black',label='Log Reg Weights - Lasso Regularized')\n",
    "plt.legend(loc=0)\n",
    "plt.show()\n",
    "#plt.plot(l1[3:],l2[3:])"
   ]
  },
  {
   "cell_type": "code",
   "execution_count": 69,
   "metadata": {
    "collapsed": false
   },
   "outputs": [
    {
     "data": {
      "text/html": [
       "<div>\n",
       "<table border=\"1\" class=\"dataframe\">\n",
       "  <thead>\n",
       "    <tr style=\"text-align: right;\">\n",
       "      <th></th>\n",
       "      <th>0</th>\n",
       "      <th>1</th>\n",
       "      <th>2</th>\n",
       "      <th>3</th>\n",
       "      <th>4</th>\n",
       "      <th>5</th>\n",
       "      <th>6</th>\n",
       "      <th>7</th>\n",
       "      <th>8</th>\n",
       "      <th>9</th>\n",
       "      <th>...</th>\n",
       "      <th>21</th>\n",
       "      <th>22</th>\n",
       "      <th>23</th>\n",
       "      <th>24</th>\n",
       "      <th>25</th>\n",
       "      <th>26</th>\n",
       "      <th>27</th>\n",
       "      <th>28</th>\n",
       "      <th>29</th>\n",
       "      <th>30</th>\n",
       "    </tr>\n",
       "  </thead>\n",
       "  <tbody>\n",
       "    <tr>\n",
       "      <th>0</th>\n",
       "      <td>-0.004922</td>\n",
       "      <td>-0.006314</td>\n",
       "      <td>0.001324</td>\n",
       "      <td>0.001833</td>\n",
       "      <td>0.000611</td>\n",
       "      <td>-0.002037</td>\n",
       "      <td>-0.007705</td>\n",
       "      <td>0.000611</td>\n",
       "      <td>0.000679</td>\n",
       "      <td>-0.001018</td>\n",
       "      <td>...</td>\n",
       "      <td>-0.005160</td>\n",
       "      <td>0.000034</td>\n",
       "      <td>-0.000815</td>\n",
       "      <td>-0.003123</td>\n",
       "      <td>-0.004582</td>\n",
       "      <td>-0.000611</td>\n",
       "      <td>0.001833</td>\n",
       "      <td>0.500000</td>\n",
       "      <td>0.693147</td>\n",
       "      <td>0.572980</td>\n",
       "    </tr>\n",
       "    <tr>\n",
       "      <th>1</th>\n",
       "      <td>-0.009266</td>\n",
       "      <td>-0.012088</td>\n",
       "      <td>0.002679</td>\n",
       "      <td>0.003707</td>\n",
       "      <td>0.001338</td>\n",
       "      <td>-0.003894</td>\n",
       "      <td>-0.015063</td>\n",
       "      <td>0.001232</td>\n",
       "      <td>0.001406</td>\n",
       "      <td>-0.001915</td>\n",
       "      <td>...</td>\n",
       "      <td>-0.010105</td>\n",
       "      <td>0.000115</td>\n",
       "      <td>-0.001522</td>\n",
       "      <td>-0.006057</td>\n",
       "      <td>-0.008957</td>\n",
       "      <td>-0.001120</td>\n",
       "      <td>0.003744</td>\n",
       "      <td>0.691385</td>\n",
       "      <td>0.689578</td>\n",
       "      <td>0.574338</td>\n",
       "    </tr>\n",
       "    <tr>\n",
       "      <th>2</th>\n",
       "      <td>-0.013082</td>\n",
       "      <td>-0.017369</td>\n",
       "      <td>0.004061</td>\n",
       "      <td>0.005616</td>\n",
       "      <td>0.002171</td>\n",
       "      <td>-0.005588</td>\n",
       "      <td>-0.022098</td>\n",
       "      <td>0.001862</td>\n",
       "      <td>0.002175</td>\n",
       "      <td>-0.002701</td>\n",
       "      <td>...</td>\n",
       "      <td>-0.014852</td>\n",
       "      <td>0.000237</td>\n",
       "      <td>-0.002132</td>\n",
       "      <td>-0.008819</td>\n",
       "      <td>-0.013139</td>\n",
       "      <td>-0.001534</td>\n",
       "      <td>0.005726</td>\n",
       "      <td>0.692373</td>\n",
       "      <td>0.686404</td>\n",
       "      <td>0.575696</td>\n",
       "    </tr>\n",
       "    <tr>\n",
       "      <th>3</th>\n",
       "      <td>-0.016416</td>\n",
       "      <td>-0.022198</td>\n",
       "      <td>0.005468</td>\n",
       "      <td>0.007557</td>\n",
       "      <td>0.003097</td>\n",
       "      <td>-0.007132</td>\n",
       "      <td>-0.028833</td>\n",
       "      <td>0.002499</td>\n",
       "      <td>0.002981</td>\n",
       "      <td>-0.003388</td>\n",
       "      <td>...</td>\n",
       "      <td>-0.019418</td>\n",
       "      <td>0.000397</td>\n",
       "      <td>-0.002655</td>\n",
       "      <td>-0.011423</td>\n",
       "      <td>-0.017142</td>\n",
       "      <td>-0.001862</td>\n",
       "      <td>0.007771</td>\n",
       "      <td>0.693341</td>\n",
       "      <td>0.683567</td>\n",
       "      <td>0.575696</td>\n",
       "    </tr>\n",
       "    <tr>\n",
       "      <th>4</th>\n",
       "      <td>-0.019310</td>\n",
       "      <td>-0.026614</td>\n",
       "      <td>0.006896</td>\n",
       "      <td>0.009525</td>\n",
       "      <td>0.004107</td>\n",
       "      <td>-0.008540</td>\n",
       "      <td>-0.035291</td>\n",
       "      <td>0.003143</td>\n",
       "      <td>0.003820</td>\n",
       "      <td>-0.003986</td>\n",
       "      <td>...</td>\n",
       "      <td>-0.023815</td>\n",
       "      <td>0.000590</td>\n",
       "      <td>-0.003100</td>\n",
       "      <td>-0.013882</td>\n",
       "      <td>-0.020980</td>\n",
       "      <td>-0.002111</td>\n",
       "      <td>0.009875</td>\n",
       "      <td>0.694253</td>\n",
       "      <td>0.681016</td>\n",
       "      <td>0.576375</td>\n",
       "    </tr>\n",
       "  </tbody>\n",
       "</table>\n",
       "<p>5 rows × 31 columns</p>\n",
       "</div>"
      ],
      "text/plain": [
       "         0         1         2         3         4         5         6   \\\n",
       "0 -0.004922 -0.006314  0.001324  0.001833  0.000611 -0.002037 -0.007705   \n",
       "1 -0.009266 -0.012088  0.002679  0.003707  0.001338 -0.003894 -0.015063   \n",
       "2 -0.013082 -0.017369  0.004061  0.005616  0.002171 -0.005588 -0.022098   \n",
       "3 -0.016416 -0.022198  0.005468  0.007557  0.003097 -0.007132 -0.028833   \n",
       "4 -0.019310 -0.026614  0.006896  0.009525  0.004107 -0.008540 -0.035291   \n",
       "\n",
       "         7         8         9     ...           21        22        23  \\\n",
       "0  0.000611  0.000679 -0.001018    ...    -0.005160  0.000034 -0.000815   \n",
       "1  0.001232  0.001406 -0.001915    ...    -0.010105  0.000115 -0.001522   \n",
       "2  0.001862  0.002175 -0.002701    ...    -0.014852  0.000237 -0.002132   \n",
       "3  0.002499  0.002981 -0.003388    ...    -0.019418  0.000397 -0.002655   \n",
       "4  0.003143  0.003820 -0.003986    ...    -0.023815  0.000590 -0.003100   \n",
       "\n",
       "         24        25        26        27        28        29        30  \n",
       "0 -0.003123 -0.004582 -0.000611  0.001833  0.500000  0.693147  0.572980  \n",
       "1 -0.006057 -0.008957 -0.001120  0.003744  0.691385  0.689578  0.574338  \n",
       "2 -0.008819 -0.013139 -0.001534  0.005726  0.692373  0.686404  0.575696  \n",
       "3 -0.011423 -0.017142 -0.001862  0.007771  0.693341  0.683567  0.575696  \n",
       "4 -0.013882 -0.020980 -0.002111  0.009875  0.694253  0.681016  0.576375  \n",
       "\n",
       "[5 rows x 31 columns]"
      ]
     },
     "execution_count": 69,
     "metadata": {},
     "output_type": "execute_result"
    }
   ],
   "source": [
    "gradient_df.head()"
   ]
  },
  {
   "cell_type": "code",
   "execution_count": 70,
   "metadata": {
    "collapsed": true
   },
   "outputs": [],
   "source": [
    "weights_history = gradient_df.iloc[:,:-3]\n",
    "scores_history = gradient_df.iloc[:,-3:]"
   ]
  },
  {
   "cell_type": "code",
   "execution_count": 71,
   "metadata": {
    "collapsed": false
   },
   "outputs": [
    {
     "data": {
      "text/plain": [
       "<matplotlib.axes._subplots.AxesSubplot at 0xa9754f66d8>"
      ]
     },
     "execution_count": 71,
     "metadata": {},
     "output_type": "execute_result"
    },
    {
     "data": {
      "image/png": "[encoded data removed]",
      "text/plain": [
       "<matplotlib.figure.Figure at 0xa9754f6b70>"
      ]
     },
     "metadata": {},
     "output_type": "display_data"
    }
   ],
   "source": [
    "weights_history.plot(figsize=(12,10))"
   ]
  },
  {
   "cell_type": "code",
   "execution_count": 72,
   "metadata": {
    "collapsed": false
   },
   "outputs": [
    {
     "data": {
      "text/plain": [
       "<matplotlib.axes._subplots.AxesSubplot at 0xa97566bb00>"
      ]
     },
     "execution_count": 72,
     "metadata": {},
     "output_type": "execute_result"
    },
    {
     "data": {
      "image/png": "[encoded data removed]",
      "text/plain": [
       "<matplotlib.figure.Figure at 0xa9755af8d0>"
      ]
     },
     "metadata": {},
     "output_type": "display_data"
    }
   ],
   "source": [
    "scores_history.iloc[1:,:].plot(figsize=(12,10))"
   ]
  },
  {
   "cell_type": "code",
   "execution_count": 73,
   "metadata": {
    "collapsed": false
   },
   "outputs": [
    {
     "data": {
      "image/png": "[encoded data removed]",
      "text/plain": [
       "<matplotlib.figure.Figure at 0xa974ff1518>"
      ]
     },
     "metadata": {},
     "output_type": "display_data"
    }
   ],
   "source": [
    "weights_history_ridge = gradient_df_ridge.iloc[:,:-3]\n",
    "weights_history_ridge.plot(figsize=(10,12))\n",
    "plt.show()"
   ]
  },
  {
   "cell_type": "code",
   "execution_count": 74,
   "metadata": {
    "collapsed": true
   },
   "outputs": [],
   "source": [
    "def fit(features_matrix, targets_matrix,pandas=False):\n",
    "    \n",
    "    if pandas:\n",
    "        \n",
    "        features_header, targets_header = features_matrix.columns,targets_matrix.columns\n",
    "        \n",
    "        features_matrix, targets_matrix = features_matrix.values, targets_matrix.values\n",
    "\n",
    "    weights = np.zeros(features_matrix.shape[1])\n",
    "    targets = targets_matrix[:,0]\n",
    "    \n",
    "    gradients = []\n",
    "    \n",
    "    for c in range(targets_matrix.shape[1]):\n",
    "        \n",
    "        targets = targets_matrix[:,c]\n",
    "\n",
    "        weights_list = []\n",
    "        scores_list = []\n",
    "\n",
    "        "
   ]
  },
  {
   "cell_type": "code",
   "execution_count": 75,
   "metadata": {
    "collapsed": true
   },
   "outputs": [],
   "source": [
    "def gradient_descent(features_matrix,targets):\n",
    "    weights = np.zeros(features_matrix.shape[1])\n",
    "    \n",
    "    alpha = 0.1\n",
    "    epsilon = 20\n",
    "    \n",
    "    weights_list = []\n",
    "    \n",
    "    scores_list = []\n",
    "    \n",
    "    for i in range(1000):\n",
    "        \n",
    "            prediction_proba = sigmoid(np.dot(features_matrix,weights))\n",
    "    \n",
    "            weights_gradient = np.dot(features_matrix.T,(prediction_proba-targets))# / features_matrix.shape[0]\n",
    "            \n",
    "            weights = weights*(1 - (epsilon * (alpha/len(features_matrix)))) - ((alpha*weights_gradient)/len(features_matrix))#*0.01)\n",
    "        \n",
    "            prediction_proba = sigmoid(np.dot(features_matrix,weights))\n",
    "    \n",
    "            predictions = np.round(prediction_proba)\n",
    "    \n",
    "            weights_list.append([*weights])\n",
    " \n",
    "            scores_list.append([roc_auc_score(targets,prediction_proba),log_loss(prediction_proba,targets),accuracy_score(targets,predictions)])\n",
    "\n",
    "            ##early stopping: if AUC does not improve/change more than 0.1% between 50 loops, then loop is broken\n",
    "        \n",
    "            if i > 50:\n",
    "                if abs((scores_list[i][-2] - scores_list[i-50][-2]) / scores_list[i][-2]) < 0.0001:\n",
    "                    break\n",
    "    \n",
    "    weights = weights_list[-1]\n",
    "    \n",
    "    return weights"
   ]
  },
  {
   "cell_type": "code",
   "execution_count": 76,
   "metadata": {
    "collapsed": false
   },
   "outputs": [],
   "source": [
    "weighting = [gradient_descent(features_matrix,targets_matrix[:,i]) for i in range(targets_matrix.shape[1])]"
   ]
  },
  {
   "cell_type": "code",
   "execution_count": 77,
   "metadata": {
    "collapsed": false
   },
   "outputs": [],
   "source": [
    "weighting_array = np.array(weighting)"
   ]
  },
  {
   "cell_type": "code",
   "execution_count": 78,
   "metadata": {
    "collapsed": false
   },
   "outputs": [],
   "source": [
    "predictions = sigmoid(np.dot(features_matrix,weighting_array.T))"
   ]
  },
  {
   "cell_type": "code",
   "execution_count": 79,
   "metadata": {
    "collapsed": false
   },
   "outputs": [],
   "source": [
    "predictions_df = pd.DataFrame(predictions)"
   ]
  },
  {
   "cell_type": "code",
   "execution_count": 80,
   "metadata": {
    "collapsed": false
   },
   "outputs": [],
   "source": [
    "concatenated = pd.concat([predictions_df,df_targets],axis=1)"
   ]
  },
  {
   "cell_type": "code",
   "execution_count": 81,
   "metadata": {
    "collapsed": false
   },
   "outputs": [
    {
     "data": {
      "text/html": [
       "<div>\n",
       "<table border=\"1\" class=\"dataframe\">\n",
       "  <thead>\n",
       "    <tr style=\"text-align: right;\">\n",
       "      <th></th>\n",
       "      <th>0</th>\n",
       "      <th>1</th>\n",
       "      <th>2</th>\n",
       "      <th>contra_type_1</th>\n",
       "      <th>contra_type_2</th>\n",
       "      <th>contra_type_3</th>\n",
       "    </tr>\n",
       "  </thead>\n",
       "  <tbody>\n",
       "    <tr>\n",
       "      <th>0</th>\n",
       "      <td>0.417159</td>\n",
       "      <td>0.103864</td>\n",
       "      <td>0.501309</td>\n",
       "      <td>1</td>\n",
       "      <td>0</td>\n",
       "      <td>0</td>\n",
       "    </tr>\n",
       "    <tr>\n",
       "      <th>1</th>\n",
       "      <td>0.622290</td>\n",
       "      <td>0.148114</td>\n",
       "      <td>0.235918</td>\n",
       "      <td>1</td>\n",
       "      <td>0</td>\n",
       "      <td>0</td>\n",
       "    </tr>\n",
       "    <tr>\n",
       "      <th>2</th>\n",
       "      <td>0.487855</td>\n",
       "      <td>0.186816</td>\n",
       "      <td>0.291789</td>\n",
       "      <td>1</td>\n",
       "      <td>0</td>\n",
       "      <td>0</td>\n",
       "    </tr>\n",
       "    <tr>\n",
       "      <th>3</th>\n",
       "      <td>0.472742</td>\n",
       "      <td>0.219736</td>\n",
       "      <td>0.300639</td>\n",
       "      <td>1</td>\n",
       "      <td>0</td>\n",
       "      <td>0</td>\n",
       "    </tr>\n",
       "    <tr>\n",
       "      <th>4</th>\n",
       "      <td>0.376801</td>\n",
       "      <td>0.187836</td>\n",
       "      <td>0.419483</td>\n",
       "      <td>1</td>\n",
       "      <td>0</td>\n",
       "      <td>0</td>\n",
       "    </tr>\n",
       "    <tr>\n",
       "      <th>5</th>\n",
       "      <td>0.448146</td>\n",
       "      <td>0.160983</td>\n",
       "      <td>0.341274</td>\n",
       "      <td>1</td>\n",
       "      <td>0</td>\n",
       "      <td>0</td>\n",
       "    </tr>\n",
       "    <tr>\n",
       "      <th>6</th>\n",
       "      <td>0.475182</td>\n",
       "      <td>0.149227</td>\n",
       "      <td>0.354827</td>\n",
       "      <td>1</td>\n",
       "      <td>0</td>\n",
       "      <td>0</td>\n",
       "    </tr>\n",
       "    <tr>\n",
       "      <th>7</th>\n",
       "      <td>0.634401</td>\n",
       "      <td>0.095270</td>\n",
       "      <td>0.350988</td>\n",
       "      <td>1</td>\n",
       "      <td>0</td>\n",
       "      <td>0</td>\n",
       "    </tr>\n",
       "    <tr>\n",
       "      <th>8</th>\n",
       "      <td>0.350231</td>\n",
       "      <td>0.109639</td>\n",
       "      <td>0.533716</td>\n",
       "      <td>1</td>\n",
       "      <td>0</td>\n",
       "      <td>0</td>\n",
       "    </tr>\n",
       "    <tr>\n",
       "      <th>9</th>\n",
       "      <td>0.816849</td>\n",
       "      <td>0.134610</td>\n",
       "      <td>0.123001</td>\n",
       "      <td>1</td>\n",
       "      <td>0</td>\n",
       "      <td>0</td>\n",
       "    </tr>\n",
       "    <tr>\n",
       "      <th>10</th>\n",
       "      <td>0.663514</td>\n",
       "      <td>0.116808</td>\n",
       "      <td>0.266522</td>\n",
       "      <td>1</td>\n",
       "      <td>0</td>\n",
       "      <td>0</td>\n",
       "    </tr>\n",
       "    <tr>\n",
       "      <th>11</th>\n",
       "      <td>0.502410</td>\n",
       "      <td>0.264018</td>\n",
       "      <td>0.234810</td>\n",
       "      <td>1</td>\n",
       "      <td>0</td>\n",
       "      <td>0</td>\n",
       "    </tr>\n",
       "    <tr>\n",
       "      <th>12</th>\n",
       "      <td>0.691827</td>\n",
       "      <td>0.293926</td>\n",
       "      <td>0.102982</td>\n",
       "      <td>1</td>\n",
       "      <td>0</td>\n",
       "      <td>0</td>\n",
       "    </tr>\n",
       "    <tr>\n",
       "      <th>13</th>\n",
       "      <td>0.787605</td>\n",
       "      <td>0.119525</td>\n",
       "      <td>0.156131</td>\n",
       "      <td>1</td>\n",
       "      <td>0</td>\n",
       "      <td>0</td>\n",
       "    </tr>\n",
       "    <tr>\n",
       "      <th>14</th>\n",
       "      <td>0.489581</td>\n",
       "      <td>0.199758</td>\n",
       "      <td>0.285665</td>\n",
       "      <td>1</td>\n",
       "      <td>0</td>\n",
       "      <td>0</td>\n",
       "    </tr>\n",
       "  </tbody>\n",
       "</table>\n",
       "</div>"
      ],
      "text/plain": [
       "           0         1         2  contra_type_1  contra_type_2  contra_type_3\n",
       "0   0.417159  0.103864  0.501309              1              0              0\n",
       "1   0.622290  0.148114  0.235918              1              0              0\n",
       "2   0.487855  0.186816  0.291789              1              0              0\n",
       "3   0.472742  0.219736  0.300639              1              0              0\n",
       "4   0.376801  0.187836  0.419483              1              0              0\n",
       "5   0.448146  0.160983  0.341274              1              0              0\n",
       "6   0.475182  0.149227  0.354827              1              0              0\n",
       "7   0.634401  0.095270  0.350988              1              0              0\n",
       "8   0.350231  0.109639  0.533716              1              0              0\n",
       "9   0.816849  0.134610  0.123001              1              0              0\n",
       "10  0.663514  0.116808  0.266522              1              0              0\n",
       "11  0.502410  0.264018  0.234810              1              0              0\n",
       "12  0.691827  0.293926  0.102982              1              0              0\n",
       "13  0.787605  0.119525  0.156131              1              0              0\n",
       "14  0.489581  0.199758  0.285665              1              0              0"
      ]
     },
     "execution_count": 81,
     "metadata": {},
     "output_type": "execute_result"
    }
   ],
   "source": [
    "concatenated.head(15)"
   ]
  },
  {
   "cell_type": "code",
   "execution_count": 82,
   "metadata": {
    "collapsed": false
   },
   "outputs": [],
   "source": [
    "numbers = predictions_df.idxmax(axis=1)"
   ]
  },
  {
   "cell_type": "code",
   "execution_count": 83,
   "metadata": {
    "collapsed": false
   },
   "outputs": [],
   "source": [
    "ones_numbers = pd.get_dummies(numbers)"
   ]
  },
  {
   "cell_type": "code",
   "execution_count": 84,
   "metadata": {
    "collapsed": false
   },
   "outputs": [
    {
     "data": {
      "text/html": [
       "<div>\n",
       "<table border=\"1\" class=\"dataframe\">\n",
       "  <thead>\n",
       "    <tr style=\"text-align: right;\">\n",
       "      <th></th>\n",
       "      <th>0</th>\n",
       "      <th>1</th>\n",
       "      <th>2</th>\n",
       "    </tr>\n",
       "  </thead>\n",
       "  <tbody>\n",
       "    <tr>\n",
       "      <th>0</th>\n",
       "      <td>0</td>\n",
       "      <td>0</td>\n",
       "      <td>1</td>\n",
       "    </tr>\n",
       "    <tr>\n",
       "      <th>1</th>\n",
       "      <td>1</td>\n",
       "      <td>0</td>\n",
       "      <td>0</td>\n",
       "    </tr>\n",
       "    <tr>\n",
       "      <th>2</th>\n",
       "      <td>1</td>\n",
       "      <td>0</td>\n",
       "      <td>0</td>\n",
       "    </tr>\n",
       "    <tr>\n",
       "      <th>3</th>\n",
       "      <td>1</td>\n",
       "      <td>0</td>\n",
       "      <td>0</td>\n",
       "    </tr>\n",
       "    <tr>\n",
       "      <th>4</th>\n",
       "      <td>0</td>\n",
       "      <td>0</td>\n",
       "      <td>1</td>\n",
       "    </tr>\n",
       "    <tr>\n",
       "      <th>5</th>\n",
       "      <td>1</td>\n",
       "      <td>0</td>\n",
       "      <td>0</td>\n",
       "    </tr>\n",
       "    <tr>\n",
       "      <th>6</th>\n",
       "      <td>1</td>\n",
       "      <td>0</td>\n",
       "      <td>0</td>\n",
       "    </tr>\n",
       "    <tr>\n",
       "      <th>7</th>\n",
       "      <td>1</td>\n",
       "      <td>0</td>\n",
       "      <td>0</td>\n",
       "    </tr>\n",
       "    <tr>\n",
       "      <th>8</th>\n",
       "      <td>0</td>\n",
       "      <td>0</td>\n",
       "      <td>1</td>\n",
       "    </tr>\n",
       "    <tr>\n",
       "      <th>9</th>\n",
       "      <td>1</td>\n",
       "      <td>0</td>\n",
       "      <td>0</td>\n",
       "    </tr>\n",
       "    <tr>\n",
       "      <th>10</th>\n",
       "      <td>1</td>\n",
       "      <td>0</td>\n",
       "      <td>0</td>\n",
       "    </tr>\n",
       "    <tr>\n",
       "      <th>11</th>\n",
       "      <td>1</td>\n",
       "      <td>0</td>\n",
       "      <td>0</td>\n",
       "    </tr>\n",
       "    <tr>\n",
       "      <th>12</th>\n",
       "      <td>1</td>\n",
       "      <td>0</td>\n",
       "      <td>0</td>\n",
       "    </tr>\n",
       "    <tr>\n",
       "      <th>13</th>\n",
       "      <td>1</td>\n",
       "      <td>0</td>\n",
       "      <td>0</td>\n",
       "    </tr>\n",
       "    <tr>\n",
       "      <th>14</th>\n",
       "      <td>1</td>\n",
       "      <td>0</td>\n",
       "      <td>0</td>\n",
       "    </tr>\n",
       "    <tr>\n",
       "      <th>15</th>\n",
       "      <td>1</td>\n",
       "      <td>0</td>\n",
       "      <td>0</td>\n",
       "    </tr>\n",
       "    <tr>\n",
       "      <th>16</th>\n",
       "      <td>1</td>\n",
       "      <td>0</td>\n",
       "      <td>0</td>\n",
       "    </tr>\n",
       "    <tr>\n",
       "      <th>17</th>\n",
       "      <td>1</td>\n",
       "      <td>0</td>\n",
       "      <td>0</td>\n",
       "    </tr>\n",
       "    <tr>\n",
       "      <th>18</th>\n",
       "      <td>1</td>\n",
       "      <td>0</td>\n",
       "      <td>0</td>\n",
       "    </tr>\n",
       "    <tr>\n",
       "      <th>19</th>\n",
       "      <td>1</td>\n",
       "      <td>0</td>\n",
       "      <td>0</td>\n",
       "    </tr>\n",
       "    <tr>\n",
       "      <th>20</th>\n",
       "      <td>1</td>\n",
       "      <td>0</td>\n",
       "      <td>0</td>\n",
       "    </tr>\n",
       "    <tr>\n",
       "      <th>21</th>\n",
       "      <td>1</td>\n",
       "      <td>0</td>\n",
       "      <td>0</td>\n",
       "    </tr>\n",
       "    <tr>\n",
       "      <th>22</th>\n",
       "      <td>1</td>\n",
       "      <td>0</td>\n",
       "      <td>0</td>\n",
       "    </tr>\n",
       "    <tr>\n",
       "      <th>23</th>\n",
       "      <td>1</td>\n",
       "      <td>0</td>\n",
       "      <td>0</td>\n",
       "    </tr>\n",
       "    <tr>\n",
       "      <th>24</th>\n",
       "      <td>0</td>\n",
       "      <td>1</td>\n",
       "      <td>0</td>\n",
       "    </tr>\n",
       "    <tr>\n",
       "      <th>25</th>\n",
       "      <td>1</td>\n",
       "      <td>0</td>\n",
       "      <td>0</td>\n",
       "    </tr>\n",
       "    <tr>\n",
       "      <th>26</th>\n",
       "      <td>1</td>\n",
       "      <td>0</td>\n",
       "      <td>0</td>\n",
       "    </tr>\n",
       "    <tr>\n",
       "      <th>27</th>\n",
       "      <td>1</td>\n",
       "      <td>0</td>\n",
       "      <td>0</td>\n",
       "    </tr>\n",
       "    <tr>\n",
       "      <th>28</th>\n",
       "      <td>1</td>\n",
       "      <td>0</td>\n",
       "      <td>0</td>\n",
       "    </tr>\n",
       "    <tr>\n",
       "      <th>29</th>\n",
       "      <td>1</td>\n",
       "      <td>0</td>\n",
       "      <td>0</td>\n",
       "    </tr>\n",
       "    <tr>\n",
       "      <th>...</th>\n",
       "      <td>...</td>\n",
       "      <td>...</td>\n",
       "      <td>...</td>\n",
       "    </tr>\n",
       "    <tr>\n",
       "      <th>1443</th>\n",
       "      <td>1</td>\n",
       "      <td>0</td>\n",
       "      <td>0</td>\n",
       "    </tr>\n",
       "    <tr>\n",
       "      <th>1444</th>\n",
       "      <td>0</td>\n",
       "      <td>0</td>\n",
       "      <td>1</td>\n",
       "    </tr>\n",
       "    <tr>\n",
       "      <th>1445</th>\n",
       "      <td>0</td>\n",
       "      <td>0</td>\n",
       "      <td>1</td>\n",
       "    </tr>\n",
       "    <tr>\n",
       "      <th>1446</th>\n",
       "      <td>1</td>\n",
       "      <td>0</td>\n",
       "      <td>0</td>\n",
       "    </tr>\n",
       "    <tr>\n",
       "      <th>1447</th>\n",
       "      <td>0</td>\n",
       "      <td>1</td>\n",
       "      <td>0</td>\n",
       "    </tr>\n",
       "    <tr>\n",
       "      <th>1448</th>\n",
       "      <td>0</td>\n",
       "      <td>0</td>\n",
       "      <td>1</td>\n",
       "    </tr>\n",
       "    <tr>\n",
       "      <th>1449</th>\n",
       "      <td>1</td>\n",
       "      <td>0</td>\n",
       "      <td>0</td>\n",
       "    </tr>\n",
       "    <tr>\n",
       "      <th>1450</th>\n",
       "      <td>0</td>\n",
       "      <td>0</td>\n",
       "      <td>1</td>\n",
       "    </tr>\n",
       "    <tr>\n",
       "      <th>1451</th>\n",
       "      <td>1</td>\n",
       "      <td>0</td>\n",
       "      <td>0</td>\n",
       "    </tr>\n",
       "    <tr>\n",
       "      <th>1452</th>\n",
       "      <td>0</td>\n",
       "      <td>0</td>\n",
       "      <td>1</td>\n",
       "    </tr>\n",
       "    <tr>\n",
       "      <th>1453</th>\n",
       "      <td>0</td>\n",
       "      <td>0</td>\n",
       "      <td>1</td>\n",
       "    </tr>\n",
       "    <tr>\n",
       "      <th>1454</th>\n",
       "      <td>0</td>\n",
       "      <td>0</td>\n",
       "      <td>1</td>\n",
       "    </tr>\n",
       "    <tr>\n",
       "      <th>1455</th>\n",
       "      <td>0</td>\n",
       "      <td>0</td>\n",
       "      <td>1</td>\n",
       "    </tr>\n",
       "    <tr>\n",
       "      <th>1456</th>\n",
       "      <td>1</td>\n",
       "      <td>0</td>\n",
       "      <td>0</td>\n",
       "    </tr>\n",
       "    <tr>\n",
       "      <th>1457</th>\n",
       "      <td>0</td>\n",
       "      <td>0</td>\n",
       "      <td>1</td>\n",
       "    </tr>\n",
       "    <tr>\n",
       "      <th>1458</th>\n",
       "      <td>1</td>\n",
       "      <td>0</td>\n",
       "      <td>0</td>\n",
       "    </tr>\n",
       "    <tr>\n",
       "      <th>1459</th>\n",
       "      <td>0</td>\n",
       "      <td>1</td>\n",
       "      <td>0</td>\n",
       "    </tr>\n",
       "    <tr>\n",
       "      <th>1460</th>\n",
       "      <td>1</td>\n",
       "      <td>0</td>\n",
       "      <td>0</td>\n",
       "    </tr>\n",
       "    <tr>\n",
       "      <th>1461</th>\n",
       "      <td>0</td>\n",
       "      <td>0</td>\n",
       "      <td>1</td>\n",
       "    </tr>\n",
       "    <tr>\n",
       "      <th>1462</th>\n",
       "      <td>1</td>\n",
       "      <td>0</td>\n",
       "      <td>0</td>\n",
       "    </tr>\n",
       "    <tr>\n",
       "      <th>1463</th>\n",
       "      <td>0</td>\n",
       "      <td>0</td>\n",
       "      <td>1</td>\n",
       "    </tr>\n",
       "    <tr>\n",
       "      <th>1464</th>\n",
       "      <td>1</td>\n",
       "      <td>0</td>\n",
       "      <td>0</td>\n",
       "    </tr>\n",
       "    <tr>\n",
       "      <th>1465</th>\n",
       "      <td>1</td>\n",
       "      <td>0</td>\n",
       "      <td>0</td>\n",
       "    </tr>\n",
       "    <tr>\n",
       "      <th>1466</th>\n",
       "      <td>1</td>\n",
       "      <td>0</td>\n",
       "      <td>0</td>\n",
       "    </tr>\n",
       "    <tr>\n",
       "      <th>1467</th>\n",
       "      <td>0</td>\n",
       "      <td>0</td>\n",
       "      <td>1</td>\n",
       "    </tr>\n",
       "    <tr>\n",
       "      <th>1468</th>\n",
       "      <td>0</td>\n",
       "      <td>0</td>\n",
       "      <td>1</td>\n",
       "    </tr>\n",
       "    <tr>\n",
       "      <th>1469</th>\n",
       "      <td>0</td>\n",
       "      <td>1</td>\n",
       "      <td>0</td>\n",
       "    </tr>\n",
       "    <tr>\n",
       "      <th>1470</th>\n",
       "      <td>1</td>\n",
       "      <td>0</td>\n",
       "      <td>0</td>\n",
       "    </tr>\n",
       "    <tr>\n",
       "      <th>1471</th>\n",
       "      <td>0</td>\n",
       "      <td>0</td>\n",
       "      <td>1</td>\n",
       "    </tr>\n",
       "    <tr>\n",
       "      <th>1472</th>\n",
       "      <td>1</td>\n",
       "      <td>0</td>\n",
       "      <td>0</td>\n",
       "    </tr>\n",
       "  </tbody>\n",
       "</table>\n",
       "<p>1473 rows × 3 columns</p>\n",
       "</div>"
      ],
      "text/plain": [
       "      0  1  2\n",
       "0     0  0  1\n",
       "1     1  0  0\n",
       "2     1  0  0\n",
       "3     1  0  0\n",
       "4     0  0  1\n",
       "5     1  0  0\n",
       "6     1  0  0\n",
       "7     1  0  0\n",
       "8     0  0  1\n",
       "9     1  0  0\n",
       "10    1  0  0\n",
       "11    1  0  0\n",
       "12    1  0  0\n",
       "13    1  0  0\n",
       "14    1  0  0\n",
       "15    1  0  0\n",
       "16    1  0  0\n",
       "17    1  0  0\n",
       "18    1  0  0\n",
       "19    1  0  0\n",
       "20    1  0  0\n",
       "21    1  0  0\n",
       "22    1  0  0\n",
       "23    1  0  0\n",
       "24    0  1  0\n",
       "25    1  0  0\n",
       "26    1  0  0\n",
       "27    1  0  0\n",
       "28    1  0  0\n",
       "29    1  0  0\n",
       "...  .. .. ..\n",
       "1443  1  0  0\n",
       "1444  0  0  1\n",
       "1445  0  0  1\n",
       "1446  1  0  0\n",
       "1447  0  1  0\n",
       "1448  0  0  1\n",
       "1449  1  0  0\n",
       "1450  0  0  1\n",
       "1451  1  0  0\n",
       "1452  0  0  1\n",
       "1453  0  0  1\n",
       "1454  0  0  1\n",
       "1455  0  0  1\n",
       "1456  1  0  0\n",
       "1457  0  0  1\n",
       "1458  1  0  0\n",
       "1459  0  1  0\n",
       "1460  1  0  0\n",
       "1461  0  0  1\n",
       "1462  1  0  0\n",
       "1463  0  0  1\n",
       "1464  1  0  0\n",
       "1465  1  0  0\n",
       "1466  1  0  0\n",
       "1467  0  0  1\n",
       "1468  0  0  1\n",
       "1469  0  1  0\n",
       "1470  1  0  0\n",
       "1471  0  0  1\n",
       "1472  1  0  0\n",
       "\n",
       "[1473 rows x 3 columns]"
      ]
     },
     "execution_count": 84,
     "metadata": {},
     "output_type": "execute_result"
    }
   ],
   "source": [
    "ones_numbers"
   ]
  },
  {
   "cell_type": "code",
   "execution_count": 85,
   "metadata": {
    "collapsed": false
   },
   "outputs": [
    {
     "data": {
      "text/plain": [
       "array([0.68363883, 0.77257298, 0.65716225])"
      ]
     },
     "execution_count": 85,
     "metadata": {},
     "output_type": "execute_result"
    }
   ],
   "source": [
    "sum(ones_numbers.values == df_targets.values) / len(ones_numbers)"
   ]
  },
  {
   "cell_type": "code",
   "execution_count": 86,
   "metadata": {
    "collapsed": true
   },
   "outputs": [],
   "source": [
    "from sklearn.multiclass import OneVsRestClassifier"
   ]
  },
  {
   "cell_type": "code",
   "execution_count": 87,
   "metadata": {
    "collapsed": true
   },
   "outputs": [],
   "source": [
    "from sklearn.linear_model import LogisticRegression"
   ]
  },
  {
   "cell_type": "code",
   "execution_count": 88,
   "metadata": {
    "collapsed": true
   },
   "outputs": [],
   "source": [
    "logreg = LogisticRegression(C=1)"
   ]
  },
  {
   "cell_type": "code",
   "execution_count": 89,
   "metadata": {
    "collapsed": true
   },
   "outputs": [],
   "source": [
    "ovrc = OneVsRestClassifier(logreg)"
   ]
  },
  {
   "cell_type": "code",
   "execution_count": 90,
   "metadata": {
    "collapsed": false
   },
   "outputs": [
    {
     "data": {
      "text/plain": [
       "OneVsRestClassifier(estimator=LogisticRegression(C=1, class_weight=None, dual=False, fit_intercept=True,\n",
       "          intercept_scaling=1, max_iter=100, multi_class='ovr', n_jobs=1,\n",
       "          penalty='l2', random_state=None, solver='liblinear', tol=0.0001,\n",
       "          verbose=0, warm_start=False),\n",
       "          n_jobs=1)"
      ]
     },
     "execution_count": 90,
     "metadata": {},
     "output_type": "execute_result"
    }
   ],
   "source": [
    "ovrc.fit(features_matrix,targets_matrix)"
   ]
  },
  {
   "cell_type": "code",
   "execution_count": 91,
   "metadata": {
    "collapsed": false
   },
   "outputs": [],
   "source": [
    "probabilities_df = pd.DataFrame(ovrc.predict_proba(features_matrix))"
   ]
  },
  {
   "cell_type": "code",
   "execution_count": 92,
   "metadata": {
    "collapsed": true
   },
   "outputs": [],
   "source": [
    "rounded_predictions = probabilities_df.idxmax(axis=1)"
   ]
  },
  {
   "cell_type": "code",
   "execution_count": 93,
   "metadata": {
    "collapsed": true
   },
   "outputs": [],
   "source": [
    "ones_rounded_predictions = pd.get_dummies(rounded_predictions)"
   ]
  },
  {
   "cell_type": "code",
   "execution_count": 94,
   "metadata": {
    "collapsed": false
   },
   "outputs": [
    {
     "data": {
      "text/plain": [
       "array([0.69653768, 0.766463  , 0.66395112])"
      ]
     },
     "execution_count": 94,
     "metadata": {},
     "output_type": "execute_result"
    }
   ],
   "source": [
    "sum(ones_rounded_predictions.values == targets_matrix) / (ones_rounded_predictions.shape[0])"
   ]
  },
  {
   "cell_type": "markdown",
   "metadata": {},
   "source": [
    "#### Very similar results between OneVsRestClassifier/Logistic Regression and my homemade algorithm"
   ]
  },
  {
   "cell_type": "code",
   "execution_count": 95,
   "metadata": {
    "collapsed": true
   },
   "outputs": [],
   "source": [
    "auc_scores = [roc_auc_score(targets_matrix[:,i],predictions_df.iloc[:,i].values) for i in range(targets_matrix.shape[1])]"
   ]
  },
  {
   "cell_type": "code",
   "execution_count": 96,
   "metadata": {
    "collapsed": false
   },
   "outputs": [
    {
     "data": {
      "text/plain": [
       "[0.7508420045358991, 0.7394670986776251, 0.6993472096211822]"
      ]
     },
     "execution_count": 96,
     "metadata": {},
     "output_type": "execute_result"
    }
   ],
   "source": [
    "auc_scores"
   ]
  },
  {
   "cell_type": "code",
   "execution_count": 97,
   "metadata": {
    "collapsed": true
   },
   "outputs": [],
   "source": [
    "auc_scores_ovrc = [roc_auc_score(targets_matrix[:,i],probabilities_df.iloc[:,i].values) for i in range(targets_matrix.shape[1])]"
   ]
  },
  {
   "cell_type": "code",
   "execution_count": 98,
   "metadata": {
    "collapsed": false
   },
   "outputs": [
    {
     "data": {
      "text/plain": [
       "[0.7543362291759281, 0.7494033507191402, 0.7071444845417448]"
      ]
     },
     "execution_count": 98,
     "metadata": {},
     "output_type": "execute_result"
    }
   ],
   "source": [
    "auc_scores_ovrc"
   ]
  },
  {
   "cell_type": "markdown",
   "metadata": {},
   "source": []
  },
  {
   "cell_type": "code",
   "execution_count": null,
   "metadata": {
    "collapsed": true
   },
   "outputs": [],
   "source": []
  }
 ],
 "metadata": {
  "kernelspec": {
   "display_name": "Python 3",
   "language": "python",
   "name": "python3"
  },
  "language_info": {
   "codemirror_mode": {
    "name": "ipython",
    "version": 3
   },
   "file_extension": ".py",
   "mimetype": "text/x-python",
   "name": "python",
   "nbconvert_exporter": "python",
   "pygments_lexer": "ipython3",
   "version": "3.6.0"
  }
 },
 "nbformat": 4,
 "nbformat_minor": 2
}
